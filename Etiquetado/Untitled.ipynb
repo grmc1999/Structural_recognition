{
 "cells": [
  {
   "cell_type": "code",
   "execution_count": 37,
   "metadata": {},
   "outputs": [],
   "source": [
    "import open3d as o3d\n",
    "import numpy as np\n",
    "import os"
   ]
  },
  {
   "cell_type": "code",
   "execution_count": 2,
   "metadata": {},
   "outputs": [],
   "source": [
    "#Hacer listado de todos los documentos en IGES_STL para la iteracion sobre las partes\n",
    "model = o3d.io.read_triangle_mesh(\"D:\\Documentos\\INNOVATE\\Base_de_datos\\GEORGE_26_02_21\\LINEA 40\\IGES_STL\\LINEA__40_2pulgLINEA__40_2pulg.stl\")\n",
    "o3d.visualization.draw_geometries([model])\n",
    "Factor_densidad=0.5\n",
    "model_pcd = model.sample_points_uniformly(number_of_points=round(model.get_surface_area()*Factor_densidad))\n",
    "o3d.visualization.draw_geometries([model_pcd])"
   ]
  },
  {
   "cell_type": "code",
   "execution_count": 3,
   "metadata": {},
   "outputs": [],
   "source": [
    "Factor_densidad=0.01\n",
    "model_pcd = model.sample_points_uniformly(number_of_points=round(model.get_surface_area()*Factor_densidad))\n",
    "o3d.visualization.draw_geometries([model_pcd])"
   ]
  },
  {
   "cell_type": "code",
   "execution_count": 4,
   "metadata": {},
   "outputs": [],
   "source": [
    "pcd = o3d.io.read_point_cloud(\"D:\\Documentos\\INNOVATE\\Base_de_datos\\GEORGE_26_02_21\\LINEA 40\\RCP\\seis_new.pts\")"
   ]
  },
  {
   "cell_type": "code",
   "execution_count": 5,
   "metadata": {},
   "outputs": [],
   "source": [
    "o3d.visualization.draw_geometries([pcd,model_pcd])"
   ]
  },
  {
   "cell_type": "code",
   "execution_count": 6,
   "metadata": {},
   "outputs": [],
   "source": [
    "model_total = o3d.io.read_triangle_mesh(\"D:\\Documentos\\INNOVATE\\Base_de_datos\\GEORGE_26_02_21\\LINEA 40\\LINEA -40_total.stl\")\n",
    "o3d.visualization.draw_geometries([model_total])\n",
    "Factor_densidad=0.005\n",
    "model_total_pcd = model_total.sample_points_uniformly(number_of_points=round(model.get_surface_area()*Factor_densidad))\n",
    "o3d.visualization.draw_geometries([model_total_pcd,model_pcd])"
   ]
  },
  {
   "cell_type": "code",
   "execution_count": 7,
   "metadata": {},
   "outputs": [],
   "source": [
    "pcdt = o3d.geometry.PointCloud()\n",
    "pcdr = o3d.geometry.PointCloud()\n",
    "pcd_arr=np.asarray(pcd.points[:])\n",
    "pcdrt = np.empty((1,3), dtype=int)"
   ]
  },
  {
   "cell_type": "code",
   "execution_count": 33,
   "metadata": {},
   "outputs": [],
   "source": [
    "for i in np.asarray(model_pcd.points[:]):\n",
    "    i=i.reshape(1,3)\n",
    "    pcd_a=np.concatenate((pcd_arr,i),axis=0)\n",
    "    pcdt.points = o3d.utility.Vector3dVector(pcd_a)\n",
    "    KDT = o3d.geometry.KDTreeFlann(pcdt)\n",
    "    [k, idx, _] = KDT.search_radius_vector_3d(pcdt.points[-1], 1.8)\n",
    "    pcdrt = np.concatenate((pcdrt,np.asarray(pcdt.points)[idx[1:], :]), axis=0)\n",
    "    #Observar\n",
    "    pcdrt=np.delete(pcdrt,0,axis=0)\n",
    "\n",
    "pcdr.points = o3d.utility.Vector3dVector(pcdrt)\n",
    "#Guardar"
   ]
  },
  {
   "cell_type": "code",
   "execution_count": 54,
   "metadata": {},
   "outputs": [
    {
     "ename": "IndexError",
     "evalue": "index 0 is out of bounds for axis 0 with size 0",
     "output_type": "error",
     "traceback": [
      "\u001b[1;31m---------------------------------------------------------------------------\u001b[0m",
      "\u001b[1;31mIndexError\u001b[0m                                Traceback (most recent call last)",
      "\u001b[1;32m<ipython-input-54-786b60fbf243>\u001b[0m in \u001b[0;36m<module>\u001b[1;34m\u001b[0m\n\u001b[0;32m     43\u001b[0m         \u001b[0mpcdrt\u001b[0m \u001b[1;33m=\u001b[0m \u001b[0mnp\u001b[0m\u001b[1;33m.\u001b[0m\u001b[0mconcatenate\u001b[0m\u001b[1;33m(\u001b[0m\u001b[1;33m(\u001b[0m\u001b[0mpcdrt\u001b[0m\u001b[1;33m,\u001b[0m\u001b[0mnp\u001b[0m\u001b[1;33m.\u001b[0m\u001b[0masarray\u001b[0m\u001b[1;33m(\u001b[0m\u001b[0mpcdt\u001b[0m\u001b[1;33m.\u001b[0m\u001b[0mpoints\u001b[0m\u001b[1;33m)\u001b[0m\u001b[1;33m[\u001b[0m\u001b[0midx\u001b[0m\u001b[1;33m[\u001b[0m\u001b[1;36m1\u001b[0m\u001b[1;33m:\u001b[0m\u001b[1;33m]\u001b[0m\u001b[1;33m,\u001b[0m \u001b[1;33m:\u001b[0m\u001b[1;33m]\u001b[0m\u001b[1;33m)\u001b[0m\u001b[1;33m,\u001b[0m \u001b[0maxis\u001b[0m\u001b[1;33m=\u001b[0m\u001b[1;36m0\u001b[0m\u001b[1;33m)\u001b[0m\u001b[1;33m\u001b[0m\u001b[1;33m\u001b[0m\u001b[0m\n\u001b[0;32m     44\u001b[0m         \u001b[1;31m#Observar\u001b[0m\u001b[1;33m\u001b[0m\u001b[1;33m\u001b[0m\u001b[1;33m\u001b[0m\u001b[0m\n\u001b[1;32m---> 45\u001b[1;33m         \u001b[0mpcdrt\u001b[0m\u001b[1;33m=\u001b[0m\u001b[0mnp\u001b[0m\u001b[1;33m.\u001b[0m\u001b[0mdelete\u001b[0m\u001b[1;33m(\u001b[0m\u001b[0mpcdrt\u001b[0m\u001b[1;33m,\u001b[0m\u001b[1;36m0\u001b[0m\u001b[1;33m,\u001b[0m\u001b[0maxis\u001b[0m\u001b[1;33m=\u001b[0m\u001b[1;36m0\u001b[0m\u001b[1;33m)\u001b[0m\u001b[1;33m\u001b[0m\u001b[1;33m\u001b[0m\u001b[0m\n\u001b[0m\u001b[0;32m     46\u001b[0m \u001b[1;33m\u001b[0m\u001b[0m\n\u001b[0;32m     47\u001b[0m     \u001b[0mpcdr\u001b[0m\u001b[1;33m.\u001b[0m\u001b[0mpoints\u001b[0m \u001b[1;33m=\u001b[0m \u001b[0mo3d\u001b[0m\u001b[1;33m.\u001b[0m\u001b[0mutility\u001b[0m\u001b[1;33m.\u001b[0m\u001b[0mVector3dVector\u001b[0m\u001b[1;33m(\u001b[0m\u001b[0mpcdrt\u001b[0m\u001b[1;33m)\u001b[0m\u001b[1;33m\u001b[0m\u001b[1;33m\u001b[0m\u001b[0m\n",
      "\u001b[1;32m<__array_function__ internals>\u001b[0m in \u001b[0;36mdelete\u001b[1;34m(*args, **kwargs)\u001b[0m\n",
      "\u001b[1;32m~\\Anaconda3\\envs\\INNOVATE\\lib\\site-packages\\numpy\\lib\\function_base.py\u001b[0m in \u001b[0;36mdelete\u001b[1;34m(arr, obj, axis)\u001b[0m\n\u001b[0;32m   4375\u001b[0m         \u001b[1;31m# optimization for a single value\u001b[0m\u001b[1;33m\u001b[0m\u001b[1;33m\u001b[0m\u001b[1;33m\u001b[0m\u001b[0m\n\u001b[0;32m   4376\u001b[0m         \u001b[1;32mif\u001b[0m \u001b[1;33m(\u001b[0m\u001b[0mobj\u001b[0m \u001b[1;33m<\u001b[0m \u001b[1;33m-\u001b[0m\u001b[0mN\u001b[0m \u001b[1;32mor\u001b[0m \u001b[0mobj\u001b[0m \u001b[1;33m>=\u001b[0m \u001b[0mN\u001b[0m\u001b[1;33m)\u001b[0m\u001b[1;33m:\u001b[0m\u001b[1;33m\u001b[0m\u001b[1;33m\u001b[0m\u001b[0m\n\u001b[1;32m-> 4377\u001b[1;33m             raise IndexError(\n\u001b[0m\u001b[0;32m   4378\u001b[0m                 \u001b[1;34m\"index %i is out of bounds for axis %i with \"\u001b[0m\u001b[1;33m\u001b[0m\u001b[1;33m\u001b[0m\u001b[0m\n\u001b[0;32m   4379\u001b[0m                 \"size %i\" % (obj, axis, N))\n",
      "\u001b[1;31mIndexError\u001b[0m: index 0 is out of bounds for axis 0 with size 0"
     ]
    }
   ],
   "source": [
    "#Parametros iniciales\n",
    "Factor_densidad=0.05\n",
    "radius=1.8\n",
    "\n",
    "path_es=\"D:\\Documentos\\INNOVATE\\Base_de_datos\\GEORGE_26_02_21\\LINEA 40\"\n",
    "\n",
    "path_stl=path_es+\"\\IGES_STL\"\n",
    "path_pcd=path_es+\"\\PTS\"\n",
    "path_pcdo=path_es+\"\\RCP\"\n",
    "\n",
    "os.makedirs(path_pcd, exist_ok=True)\n",
    "\n",
    "dirt=os.listdir(path_pcdo)\n",
    "dir_pcdo=[]\n",
    "for ar in dirt:\n",
    "    if ar.rfind('_new')==-1:\n",
    "        dir_pcdo.append(ar)\n",
    "pcd = o3d.io.read_point_cloud(path_pcdo+\"\\\\\"+dir_pcdo[0])\n",
    "\n",
    "dirt=os.listdir(path_stl)\n",
    "dir_stl=[]\n",
    "for ar in dirt:\n",
    "    if ar.rfind('.txt')==-1:\n",
    "        dir_stl.append(ar)\n",
    "\n",
    "pcdt = o3d.geometry.PointCloud()\n",
    "pcdr = o3d.geometry.PointCloud()\n",
    "#Iteración sobre todos los archivos\n",
    "for stl in dir_stl:\n",
    "    path_obj=path_stl+\"\\\\\"+stl\n",
    "    model = o3d.io.read_triangle_mesh(path_obj)\n",
    "    model_pcd = model.sample_points_uniformly(number_of_points=round(model.get_surface_area()*Factor_densidad))\n",
    "\n",
    "    pcd_arr=np.asarray(pcd.points[:])\n",
    "    pcdrt = np.empty((1,3), dtype=int)\n",
    "    \n",
    "    for i in np.asarray(model_pcd.points[:]):\n",
    "        i=i.reshape(1,3)\n",
    "        pcd_a=np.concatenate((pcd_arr,i),axis=0)\n",
    "        pcdt.points = o3d.utility.Vector3dVector(pcd_a)\n",
    "        KDT = o3d.geometry.KDTreeFlann(pcdt)\n",
    "        [k, idx, _] = KDT.search_radius_vector_3d(pcdt.points[-1], radius)\n",
    "        pcdrt = np.concatenate((pcdrt,np.asarray(pcdt.points)[idx[1:], :]), axis=0)\n",
    "        #Observar\n",
    "        pcdrt=np.delete(pcdrt,0,axis=0)\n",
    "\n",
    "    pcdr.points = o3d.utility.Vector3dVector(pcdrt)\n",
    "    #Guardado\n",
    "    name=stl.split(\".\")[0]+\".pcd\"\n",
    "    o3d.io.write_point_cloud(path_pcd+\"\\\\\"+name, pcd)"
   ]
  },
  {
   "cell_type": "code",
   "execution_count": 52,
   "metadata": {},
   "outputs": [
    {
     "data": {
      "text/plain": [
       "array([], shape=(0, 3), dtype=float64)"
      ]
     },
     "execution_count": 52,
     "metadata": {},
     "output_type": "execute_result"
    }
   ],
   "source": [
    "pcdrt"
   ]
  }
 ],
 "metadata": {
  "kernelspec": {
   "display_name": "Python 3",
   "language": "python",
   "name": "python3"
  },
  "language_info": {
   "codemirror_mode": {
    "name": "ipython",
    "version": 3
   },
   "file_extension": ".py",
   "mimetype": "text/x-python",
   "name": "python",
   "nbconvert_exporter": "python",
   "pygments_lexer": "ipython3",
   "version": "3.9.0"
  }
 },
 "nbformat": 4,
 "nbformat_minor": 4
}
