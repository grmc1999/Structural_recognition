{
 "cells": [
  {
   "cell_type": "code",
   "execution_count": 1,
   "metadata": {},
   "outputs": [
    {
     "name": "stderr",
     "output_type": "stream",
     "text": [
      "C:\\Users\\grmc1\\Anaconda3\\envs\\INNOVATE\\lib\\site-packages\\numpy\\_distributor_init.py:30: UserWarning: loaded more than 1 DLL from .libs:\n",
      "C:\\Users\\grmc1\\Anaconda3\\envs\\INNOVATE\\lib\\site-packages\\numpy\\.libs\\libopenblas.JPIJNSWNNAN3CE6LLI5FWSPHUT2VXMTH.gfortran-win_amd64.dll\n",
      "C:\\Users\\grmc1\\Anaconda3\\envs\\INNOVATE\\lib\\site-packages\\numpy\\.libs\\libopenblas.NOIJJG62EMASZI6NYURL6JBKM4EVBGM7.gfortran-win_amd64.dll\n",
      "  warnings.warn(\"loaded more than 1 DLL from .libs:\"\n"
     ]
    }
   ],
   "source": [
    "import sys\n",
    "sys.path.append(\"D:\\\\Documentos\\\\INNOVATE\\\\GH\\\\proyectox\\\\Simetrias\\\\Utils\")\n",
    "from Utilities import *\n",
    "from MF import *\n",
    "from Visualization_utilities import *\n",
    "from transformation import Transformation\n",
    "from Signatures import Signature\n",
    "#from scipy.spatial.transform import Rotation as R"
   ]
  },
  {
   "cell_type": "code",
   "execution_count": 2,
   "metadata": {},
   "outputs": [],
   "source": [
    "dp=Geometry_load(path=\"D:\\\\Documentos\\\\INNOVATE\\\\lib\\\\symmetry-detection-reflection\\\\mesh\\\\Wine_Bottle.obj\",\n",
    "                    visualization=True,\n",
    "                    voxel_down_sample=0.02,\n",
    "                    geometry_type=\"3DObject\")"
   ]
  },
  {
   "cell_type": "code",
   "execution_count": 3,
   "metadata": {},
   "outputs": [
    {
     "data": {
      "text/plain": [
       "array([None, None, None, ..., None, None, None], dtype=object)"
      ]
     },
     "execution_count": 3,
     "metadata": {},
     "output_type": "execute_result"
    }
   ],
   "source": [
    "indexes=np.arange(np.asarray(dp.points).shape[0])\n",
    "pt = o3d.geometry.KDTreeFlann(dp)\n",
    "signatures=Signature(dp,pt,indexes)\n",
    "Signature().v_build(signatures,NN_Criteria=\"KNN\",\n",
    "                    rad=np.std(np.asarray(dp.points)-np.mean(np.asarray(dp.points),axis=0))/8,\n",
    "                   NN=30)"
   ]
  },
  {
   "cell_type": "code",
   "execution_count": 4,
   "metadata": {},
   "outputs": [
    {
     "name": "stdout",
     "output_type": "stream",
     "text": [
      "(19387, 3)\n",
      "Total points\n",
      "19387\n",
      "Non discontinuitinual points\n",
      "19387\n",
      "Pruned points\n",
      "18802\n",
      "numero de puntos aleatorios\n",
      "1880\n"
     ]
    }
   ],
   "source": [
    "print(np.asarray(dp.points).shape)\n",
    "signaturesp=remove_discontinuities_by_curvature(dp,signatures,pt,curvature=0.4,radius=0.02)\n",
    "print(\"Total points\")\n",
    "print(len(signatures))\n",
    "print(\"Non discontinuitinual points\")\n",
    "print(len(signaturesp))\n",
    "pp=prune_points(signaturesp,\"sphericity\",0.0005)\n",
    "pp=np.array(pp)\n",
    "print(\"Pruned points\")\n",
    "print(len(pp))\n",
    "rat=0.1\n",
    "ppp=random_sample(pp,rat)\n",
    "ppp=np.array(ppp)\n",
    "print(\"numero de puntos aleatorios\")\n",
    "print(len(ppp))"
   ]
  },
  {
   "cell_type": "code",
   "execution_count": 5,
   "metadata": {},
   "outputs": [],
   "source": [
    "[trans_s,rs,KDT,query]=build_pairing_kd_tree(dp,pp,rad=100000.6,rand_samp_percentage=rat,\n",
    "                                             rigid=True,only_reflections=True,NN=80)"
   ]
  },
  {
   "cell_type": "code",
   "execution_count": 6,
   "metadata": {},
   "outputs": [],
   "source": [
    "z=0\n",
    "trans_space=trans_s[:,0]\n",
    "diagonal_length=np.linalg.norm(dp.get_max_bound()-dp.get_min_bound())"
   ]
  },
  {
   "cell_type": "code",
   "execution_count": 7,
   "metadata": {},
   "outputs": [
    {
     "data": {
      "text/plain": [
       "(163, 7)"
      ]
     },
     "execution_count": 7,
     "metadata": {},
     "output_type": "execute_result"
    }
   ],
   "source": [
    "np_points=Transformation().v_toPoint(trans_space)\n",
    "ptrans_space=pruneTransPoints(trans_s=trans_space,\n",
    "                            Rx_th=0.001*math.pi/(math.pi**2),\n",
    "                            Ry_th=0.001*math.pi/(math.pi**2),\n",
    "                            Rz_th_min=0.1*math.pi/(math.pi**2),\n",
    "                            Rz_th_max=0.9*math.pi/(math.pi**2),\n",
    "                            Tz_th=0.001/(4/((diagonal_length)**2)),\n",
    "                            #Ty_th=0.0001/(4/((diagonal_length)**2))\n",
    "                            )\n",
    "points=Transformation().v_toPoint(ptrans_space)\n",
    "points.shape"
   ]
  },
  {
   "cell_type": "code",
   "execution_count": 8,
   "metadata": {},
   "outputs": [
    {
     "name": "stderr",
     "output_type": "stream",
     "text": [
      "D:\\Documentos\\INNOVATE\\GH\\proyectox\\Simetrias\\Utils\\Visualization_utilities.py:148: MatplotlibDeprecationWarning: Adding an axes using the same arguments as a previous axes currently reuses the earlier instance.  In a future version, a new instance will always be created and returned.  Meanwhile, this warning can be suppressed, and the future behavior ensured, by passing a unique label to each axes instance.\n",
      "  plt.subplot(G[0, 0]).set_title(\"Rx\")\n",
      "D:\\Documentos\\INNOVATE\\GH\\proyectox\\Simetrias\\Utils\\Visualization_utilities.py:149: MatplotlibDeprecationWarning: Adding an axes using the same arguments as a previous axes currently reuses the earlier instance.  In a future version, a new instance will always be created and returned.  Meanwhile, this warning can be suppressed, and the future behavior ensured, by passing a unique label to each axes instance.\n",
      "  plt.subplot(G[0, 1]).set_title(\"Ry\")\n",
      "D:\\Documentos\\INNOVATE\\GH\\proyectox\\Simetrias\\Utils\\Visualization_utilities.py:150: MatplotlibDeprecationWarning: Adding an axes using the same arguments as a previous axes currently reuses the earlier instance.  In a future version, a new instance will always be created and returned.  Meanwhile, this warning can be suppressed, and the future behavior ensured, by passing a unique label to each axes instance.\n",
      "  plt.subplot(G[0, 2]).set_title(\"Rz\")\n",
      "D:\\Documentos\\INNOVATE\\GH\\proyectox\\Simetrias\\Utils\\Visualization_utilities.py:151: MatplotlibDeprecationWarning: Adding an axes using the same arguments as a previous axes currently reuses the earlier instance.  In a future version, a new instance will always be created and returned.  Meanwhile, this warning can be suppressed, and the future behavior ensured, by passing a unique label to each axes instance.\n",
      "  plt.subplot(G[0, 3]).set_title(\"Tx\")\n",
      "D:\\Documentos\\INNOVATE\\GH\\proyectox\\Simetrias\\Utils\\Visualization_utilities.py:152: MatplotlibDeprecationWarning: Adding an axes using the same arguments as a previous axes currently reuses the earlier instance.  In a future version, a new instance will always be created and returned.  Meanwhile, this warning can be suppressed, and the future behavior ensured, by passing a unique label to each axes instance.\n",
      "  plt.subplot(G[0, 4]).set_title(\"Ty\")\n",
      "D:\\Documentos\\INNOVATE\\GH\\proyectox\\Simetrias\\Utils\\Visualization_utilities.py:153: MatplotlibDeprecationWarning: Adding an axes using the same arguments as a previous axes currently reuses the earlier instance.  In a future version, a new instance will always be created and returned.  Meanwhile, this warning can be suppressed, and the future behavior ensured, by passing a unique label to each axes instance.\n",
      "  plt.subplot(G[0, 5]).set_title(\"Tz\")\n"
     ]
    },
    {
     "data": {
      "image/png": "[encoded data removed]",
      "text/plain": [
       "<Figure size 2160x720 with 12 Axes>"
      ]
     },
     "metadata": {
      "needs_background": "light"
     },
     "output_type": "display_data"
    }
   ],
   "source": [
    "display_trans_prunning(trans_space,ptrans_space)"
   ]
  },
  {
   "cell_type": "code",
   "execution_count": 9,
   "metadata": {},
   "outputs": [],
   "source": [
    "new_pc_ind=np.vectorize(pyfunc=(lambda x: np.array([x.origin_index,x.image_index])),signature='()->(n)')(ptrans_space)\n",
    "new_pc_ind=np.unique(new_pc_ind.reshape(1,-1))\n",
    "signatures=signatures.tolist()\n",
    "signatures.sort(key=lambda x: getattr(x,\"point_index\"), reverse=False)\n",
    "signatures=np.array(signatures)\n",
    "pruned_signatures=signatures[new_pc_ind]\n",
    "\n",
    "graficarPropiedad(pruned_signatures,dp,property=\"sphericity\",frac=1)"
   ]
  },
  {
   "cell_type": "code",
   "execution_count": 10,
   "metadata": {},
   "outputs": [
    {
     "name": "stdout",
     "output_type": "stream",
     "text": [
      "numero de puntos en el espacio de transformadas\n",
      "148520\n",
      "numero de puntos en el espacio filtrado de transformadas\n",
      "163\n",
      "desviacion estandar z=0\n",
      "0.0955701119055584\n",
      "[8.11850587e-15 1.18156493e-01 1.18991137e-01 1.56156406e-01\n",
      " 4.91551576e-02 4.89849945e-02 6.67554786e-02]\n"
     ]
    }
   ],
   "source": [
    "print(\"numero de puntos en el espacio de transformadas\")\n",
    "print(len(trans_space))\n",
    "print(\"numero de puntos en el espacio filtrado de transformadas\")\n",
    "print(len(ptrans_space))\n",
    "\n",
    "print('desviacion estandar z='+str(z))\n",
    "std=np.std(Transformation().v_toPoint(trans_s[:,z]))\n",
    "print(std)\n",
    "print(np.std(Transformation().v_toPoint(trans_s[:,z]),axis=0))"
   ]
  },
  {
   "cell_type": "code",
   "execution_count": 11,
   "metadata": {},
   "outputs": [],
   "source": [
    "Sub_space_2=get_SSpace2(Transformation().v_toPoint(ptrans_space),dp)"
   ]
  },
  {
   "cell_type": "code",
   "execution_count": 12,
   "metadata": {},
   "outputs": [
    {
     "name": "stdout",
     "output_type": "stream",
     "text": [
      "2\n"
     ]
    },
    {
     "data": {
      "text/plain": [
       "(array([  9,  10,  41,  42,  45,  46,  51,  61,  67,  77,  84,  99, 100,\n",
       "        126, 147, 150, 158, 159, 162], dtype=int64),)"
      ]
     },
     "execution_count": 12,
     "metadata": {},
     "output_type": "execute_result"
    }
   ],
   "source": [
    "Cluster=MeanShift(bandwidth=5,n_jobs=4,cluster_all=False,bin_seeding=True,min_bin_freq=5)\n",
    "clusters=Cluster.fit_predict(Sub_space_2)\n",
    "print(np.max(clusters))\n",
    "np.where(clusters==-1)"
   ]
  },
  {
   "cell_type": "code",
   "execution_count": 13,
   "metadata": {},
   "outputs": [
    {
     "data": {
      "image/png": "[encoded data removed]",
      "text/plain": [
       "<Figure size 720x720 with 1 Axes>"
      ]
     },
     "metadata": {
      "needs_background": "light"
     },
     "output_type": "display_data"
    }
   ],
   "source": [
    "display_cluster(clusters,Sub_space_2)"
   ]
  },
  {
   "cell_type": "code",
   "execution_count": 19,
   "metadata": {},
   "outputs": [
    {
     "name": "stdout",
     "output_type": "stream",
     "text": [
      "cluster 0\n",
      "radio\n",
      "0.13198606700787605\n",
      "0.0010526012067105872 +- 0.0027488532225710864\n",
      "cluster 1\n",
      "radio\n",
      "21.608367672838458\n",
      "0.17232874956504715 +- 0.01803914413072253\n",
      "cluster 2\n",
      "radio\n",
      "13.105703180363134\n",
      "0.104519206422128 +- 0.018281454895350012\n"
     ]
    }
   ],
   "source": [
    "#RADIO ORIGINAL 0.98 2.61 [mm]\n",
    "\n",
    "for i in range(np.max(clusters)+1):\n",
    "    rad=np.mean(Sub_space_2[np.where(clusters==i)][:,0])\n",
    "    err=np.std(Sub_space_2[np.where(clusters==i)][:,0]-rad)\n",
    "    print(\"cluster \"+str(i))\n",
    "    #print(rad/((4/((diagonal_length)**2))))\n",
    "    print(\"radio\")\n",
    "    print(str(rad))\n",
    "    print(str(rad*((4/((diagonal_length)**2))))+\" +- \"+str(err*((4/((diagonal_length)**2)))))\n",
    "    #print(\"error\")\n",
    "    #print(err)"
   ]
  },
  {
   "cell_type": "code",
   "execution_count": 22,
   "metadata": {},
   "outputs": [
    {
     "name": "stdout",
     "output_type": "stream",
     "text": [
      "[Open3D WARNING] [ViewControl] SetViewPoint() failed because window height and width are not set.\n"
     ]
    }
   ],
   "source": [
    "trans_cluster=get_cluster_transformation_points(Clusters=clusters,Cluster_id=1,trans_space=ptrans_space)\n",
    "signature_cluster=get_signatures_from_transformation(signatures,trans_cluster)\n",
    "cluster_points_index=get_cluster_points_index_from_signatures(signature_cluster)\n",
    "point_index_cluster=get_cluster_NN_points_index_from_signatures(signature_cluster,dp,pt,20)\n",
    "pcs=build_pointcloud_simetrie(dp,point_index_cluster)\n",
    "o3d.visualization.draw_geometries([pcs])"
   ]
  }
 ],
 "metadata": {
  "kernelspec": {
   "display_name": "Python 3",
   "language": "python",
   "name": "python3"
  },
  "language_info": {
   "codemirror_mode": {
    "name": "ipython",
    "version": 3
   },
   "file_extension": ".py",
   "mimetype": "text/x-python",
   "name": "python",
   "nbconvert_exporter": "python",
   "pygments_lexer": "ipython3",
   "version": "3.8.10"
  }
 },
 "nbformat": 4,
 "nbformat_minor": 4
}
