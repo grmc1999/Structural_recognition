{
 "cells": [
  {
   "cell_type": "code",
   "execution_count": 5,
   "metadata": {},
   "outputs": [
    {
     "name": "stdout",
     "output_type": "stream",
     "text": [
      "e:\\INNOVATE\\proyectox\\Simetrias\\Notebooks\n"
     ]
    }
   ],
   "source": [
    "import sys\n",
    "import pathlib\n",
    "pth=str(pathlib.Path().absolute())\n",
    "print(pth)\n",
    "sys.path.append(('\\\\').join(pth.split('\\\\')[:-1])+\"\\\\Utils\")\n",
    "from Utilities import *\n",
    "from MF import *\n",
    "from Visualization_utilities import *\n",
    "from transformation import Transformation\n",
    "from Signatures import Signature\n",
    "import os"
   ]
  },
  {
   "cell_type": "code",
   "execution_count": 2,
   "metadata": {},
   "outputs": [],
   "source": [
    "def project_pcl_pca(pcl,voxel_size=0.08,nb=5,std_ratio=1.5,p_th=0.5,ig=\"sphericity\",upper=True):\n",
    "    #o3d.visualization.draw_geometries([pcl])\n",
    "    pcl.estimate_normals(search_param=o3d.geometry.KDTreeSearchParamKNN(30))\n",
    "    pcl, ind = pcl.remove_statistical_outlier(nb_neighbors=nb,std_ratio=std_ratio)\n",
    "    pcl=pcl.voxel_down_sample(voxel_size=voxel_size)\n",
    "    pcl.estimate_normals(search_param=o3d.geometry.KDTreeSearchParamKNN(30))\n",
    "    #o3d.visualization.draw_geometries([pcl])\n",
    "\n",
    "    indexes=np.arange(np.asarray(pcl.points).shape[0])\n",
    "    pt = o3d.geometry.KDTreeFlann(pcl)\n",
    "    signatures=Signature(pcl,pt,indexes)\n",
    "    Signature().v_build(signatures,NN_Criteria=\"KNN\",\n",
    "                    rad=np.std(np.asarray(pcl.points)-np.mean(np.asarray(pcl.points),axis=0))/8,\n",
    "                   NN=30)\n",
    "\n",
    "    signaturesp=remove_discontinuities_by_curvature(pcl,signatures,pt,curvature=0.4,radius=0.5)\n",
    "    #graficarPropiedad(signaturesp,pcl,property=ig,frac=1)\n",
    "\n",
    "    #LESS THAN\n",
    "    pp=np.vectorize(lambda signature,att: getattr(signature,att))(signaturesp,ig)\n",
    "    if upper:\n",
    "        pp=np.delete(signaturesp,pp>p_th)\n",
    "    else:\n",
    "        pp=np.delete(signaturesp,pp<p_th)\n",
    "    points=np.vectorize(lambda x: x.pointCoordinates,signature=\"()->(j)\")(pp)\n",
    "    \n",
    "    data_mean = np.mean(points, axis=0) #Calculate the average value of the column\n",
    "    # Normalized \n",
    "    normalize_data = points - data_mean\n",
    "    # SVD decomposition\n",
    "    # Construct covariance matrix\n",
    "    H = np.dot(normalize_data.T, normalize_data)\n",
    "    # SVD decomposition\n",
    "    eigenvectors, eigenvalues, eigenvectors_t = np.linalg.svd(H)   # H = U S V\n",
    "    # Reverse order\n",
    "    sort = eigenvalues.argsort()[::-1]\n",
    "    eigenvalues = eigenvalues[sort]\n",
    "    eigenvectors = eigenvectors[:, sort]\n",
    "    return eigenvectors[:, 0],eigenvectors[:, 1]"
   ]
  },
  {
   "cell_type": "code",
   "execution_count": 3,
   "metadata": {},
   "outputs": [],
   "source": [
    "pts_lts=np.array(os.listdir(\"E:\\\\INNOVATE\\\\Aceptado\"))"
   ]
  },
  {
   "cell_type": "code",
   "execution_count": 4,
   "metadata": {},
   "outputs": [
    {
     "ename": "TypeError",
     "evalue": "project_pcl_() got an unexpected keyword argument 'voxel_size'",
     "output_type": "error",
     "traceback": [
      "\u001b[1;31m---------------------------------------------------------------------------\u001b[0m",
      "\u001b[1;31mTypeError\u001b[0m                                 Traceback (most recent call last)",
      "\u001b[1;32m<ipython-input-4-bc21083bc7ea>\u001b[0m in \u001b[0;36m<module>\u001b[1;34m\u001b[0m\n\u001b[0;32m      6\u001b[0m \u001b[1;33m\u001b[0m\u001b[0m\n\u001b[0;32m      7\u001b[0m \u001b[1;33m\u001b[0m\u001b[0m\n\u001b[1;32m----> 8\u001b[1;33m pts,obb=project_pcl_(dpf,\n\u001b[0m\u001b[0;32m      9\u001b[0m              \u001b[0mvoxel_size\u001b[0m\u001b[1;33m=\u001b[0m\u001b[1;36m0.02\u001b[0m\u001b[1;33m,\u001b[0m\u001b[1;33m\u001b[0m\u001b[1;33m\u001b[0m\u001b[0m\n\u001b[0;32m     10\u001b[0m              \u001b[0mnb\u001b[0m\u001b[1;33m=\u001b[0m\u001b[1;36m5\u001b[0m\u001b[1;33m,\u001b[0m\u001b[1;33m\u001b[0m\u001b[1;33m\u001b[0m\u001b[0m\n",
      "\u001b[1;31mTypeError\u001b[0m: project_pcl_() got an unexpected keyword argument 'voxel_size'"
     ]
    }
   ],
   "source": [
    "#Afinación de parametros\n",
    "#pts = \"A1_MODELO_3D_revA_L3x3x3_1600_pulg_001.pts\"\n",
    "pts = \"A1_MODELO_3D_revA_C3X600_pulg_005.pts\"  #Raro\n",
    "#pts='A1_MODELO_3D_revA_L5x3x1_400_pulg_001.pts'\n",
    "dpf=o3d.io.read_point_cloud(\"E:\\\\INNOVATE\\\\Aceptado\\\\\"+pts)\n",
    "\n",
    "\n",
    "pts,obb=project_pcl_(dpf,\n",
    "             voxel_size=0.02,\n",
    "             nb=5,\n",
    "             std_ratio=1.5,\n",
    "             p_th=0.1,\n",
    "             ig=\"Linearity\",\n",
    "             upper=True\n",
    "            )\n",
    "mesh_frame = o3d.geometry.TriangleMesh.create_coordinate_frame(size=80.0, origin=pts.get_center())\n",
    "o3d.visualization.draw_geometries([pts, mesh_frame,obb])\n",
    "\n",
    "pts,obb=project_pcl_(dpf,\n",
    "             voxel_size=0.02,\n",
    "             nb=5,\n",
    "             std_ratio=1.5,\n",
    "             p_th=0.65,\n",
    "             ig=\"Planarity\",\n",
    "             upper=False\n",
    "            )\n",
    "mesh_frame = o3d.geometry.TriangleMesh.create_coordinate_frame(size=80.0, origin=pts.get_center())\n",
    "o3d.visualization.draw_geometries([pts, mesh_frame,obb])\n",
    "\n",
    "pts,obb=project_pcl_(dpf,\n",
    "             voxel_size=0.02,\n",
    "             nb=5,\n",
    "             std_ratio=1.5,\n",
    "             p_th=0.75,\n",
    "             ig=\"ratio\",\n",
    "             upper=False\n",
    "            )\n",
    "mesh_frame = o3d.geometry.TriangleMesh.create_coordinate_frame(size=80.0, origin=pts.get_center())\n",
    "o3d.visualization.draw_geometries([pts, mesh_frame,obb])\n",
    "\n",
    "pts,obb=project_pcl_(dpf,\n",
    "              voxel_size=0.02,\n",
    "              nb=5,\n",
    "              std_ratio=1.5,\n",
    "              p_th=0.75,\n",
    "              ig=\"Omnivariance\",\n",
    "              upper=False\n",
    "             )\n",
    "mesh_frame = o3d.geometry.TriangleMesh.create_coordinate_frame(size=80.0, origin=pts.get_center())\n",
    "o3d.visualization.draw_geometries([pts, mesh_frame,obb])\n",
    "\n",
    "pts,obb=project_pcl_(dpf,\n",
    "             voxel_size=0.02,\n",
    "             nb=5,\n",
    "             std_ratio=1.5,\n",
    "             p_th=0.75,\n",
    "             ig=\"Anistropy\",\n",
    "             upper=False\n",
    "            )\n",
    "mesh_frame = o3d.geometry.TriangleMesh.create_coordinate_frame(size=80.0, origin=pts.get_center())\n",
    "o3d.visualization.draw_geometries([pts, mesh_frame,obb])"
   ]
  },
  {
   "cell_type": "code",
   "execution_count": null,
   "metadata": {},
   "outputs": [
    {
     "name": "stdout",
     "output_type": "stream",
     "text": [
      "0.5999749571677867\n",
      "0.001008215799418615\n",
      "0.9860881975614826\n",
      "0.0012486634575777384\n",
      "0.9989917842005814\n",
      "0.4000250428322132\n",
      "686.8185710820337\n",
      "25.408128021018783\n",
      "0.999109386031882\n",
      "0.09458227675762662\n",
      "0.5999984468752473\n",
      "0.0022327591578204173\n",
      "0.9953512892567546\n",
      "0.002138285364496582\n",
      "0.9977672408421796\n",
      "0.4000015531247527\n",
      "1397.5262417301615\n",
      "4.697327314642835\n",
      "0.999778049553111\n",
      "0.12854865128528162\n",
      "0.5999940050071402\n",
      "0.001961527808909494\n",
      "0.9971760658633926\n",
      "0.0037102267061043456\n",
      "0.9980384721910905\n",
      "0.4000059949928599\n",
      "276.9312335690031\n",
      "13.962043813783932\n",
      "0.9996571611540174\n",
      "0.17076532478480252\n",
      "0.5999059780134939\n",
      "0.004784812632954124\n",
      "0.9772908855028948\n",
      "0.019294700099783686\n",
      "0.9952151873670458\n",
      "0.400747889747908\n",
      "185.12861648020512\n",
      "17.801567502906757\n",
      "0.9997045077583389\n",
      "0.12805705817421842\n",
      "0.5999709526041469\n",
      "0.0012554173953555666\n",
      "0.9931421412937746\n",
      "0.007773765692835039\n",
      "0.9987445826046444\n",
      "0.40002904739585304\n",
      "722.1418701501929\n",
      "14.255828968316608\n",
      "0.9997467572240187\n",
      "0.08850139368694274\n",
      "0.5989581178657448\n",
      "0.03290172702868366\n",
      "0.8600705027588462\n",
      "0.05341755515690435\n"
     ]
    }
   ],
   "source": [
    "while True:\n",
    "    dpf=np.random.choice(pts_lts)\n",
    "    dpf=o3d.io.read_point_cloud(\"E:\\\\INNOVATE\\\\Aceptado\\\\\"+dpf)\n",
    "    pts=project_pcl_(dpf,\n",
    "             voxel_size=0.02,\n",
    "             nb=5,\n",
    "             std_ratio=1.5,\n",
    "             p_th=0.1,\n",
    "             ig=\"Linearity\",\n",
    "             upper=True\n",
    "            )\n",
    "    mesh_frame = o3d.geometry.TriangleMesh.create_coordinate_frame(size=80.0, origin=pts.get_center())\n",
    "    o3d.visualization.draw_geometries([pts, mesh_frame])\n",
    "\n",
    "    pts=project_pcl_(dpf,\n",
    "             voxel_size=0.02,\n",
    "             nb=5,\n",
    "             std_ratio=1.5,\n",
    "             p_th=0.65,\n",
    "             ig=\"Planarity\",\n",
    "             upper=False\n",
    "            )\n",
    "    mesh_frame = o3d.geometry.TriangleMesh.create_coordinate_frame(size=80.0, origin=pts.get_center())\n",
    "    o3d.visualization.draw_geometries([pts, mesh_frame])\n",
    "\n",
    "    pts=project_pcl_(dpf,\n",
    "             voxel_size=0.02,\n",
    "             nb=5,\n",
    "             std_ratio=1.5,\n",
    "             p_th=0.75,\n",
    "             ig=\"ratio\",\n",
    "             upper=False\n",
    "            )\n",
    "    mesh_frame = o3d.geometry.TriangleMesh.create_coordinate_frame(size=80.0, origin=pts.get_center())\n",
    "    o3d.visualization.draw_geometries([pts, mesh_frame])\n",
    "\n",
    "    pts=project_pcl_(dpf,\n",
    "              voxel_size=0.02,\n",
    "              nb=5,\n",
    "              std_ratio=1.5,\n",
    "              p_th=0.75,\n",
    "              ig=\"Omnivariance\",\n",
    "              upper=False\n",
    "             )\n",
    "    mesh_frame = o3d.geometry.TriangleMesh.create_coordinate_frame(size=80.0, origin=pts.get_center())\n",
    "    o3d.visualization.draw_geometries([pts, mesh_frame])\n",
    "\n",
    "    pts=project_pcl_(dpf,\n",
    "             voxel_size=0.02,\n",
    "             nb=5,\n",
    "             std_ratio=1.5,\n",
    "             p_th=0.75,\n",
    "             ig=\"Anistropy\",\n",
    "             upper=False\n",
    "            )\n",
    "    mesh_frame = o3d.geometry.TriangleMesh.create_coordinate_frame(size=80.0, origin=pts.get_center())\n",
    "    o3d.visualization.draw_geometries([pts, mesh_frame])"
   ]
  },
  {
   "cell_type": "code",
   "execution_count": 301,
   "metadata": {},
   "outputs": [],
   "source": [
    "import open3d as o3d\n",
    "from circlehough.hough import main\n",
    "#pts = \"A1_MODELO_3D_revA_C3X600_pulg_005.pts\"  #Raro\n",
    "#pts='A1_MODELO_3D_revA_L5x3x1_400_pulg_001.pts'\n",
    "#pts = 'Pipe_0p75_pulg_ac_14.pts'\n",
    "#pts = 'Pipe_1_pulg_mb_306.pts'\n",
    "#pts ='Pipe_4_pulg_ac_56.pts'\n",
    "pts = 'Pipe_3_pulg_ac_132.pts'\n",
    "#pts = 'Pipe_5_pulg_ac_230.pts'\n",
    "#pts = 'Pipe_6_pulg_ac_71.pts'\n",
    "#pts = 'Pipe_6_pulg_ac_292.pts'\n",
    "dpf=o3d.io.read_point_cloud(\"E:\\\\INNOVATE\\\\DB_TRAINING_1024_PTS\\\\Pipe\\\\\"+pts)\n",
    "\n",
    "\n",
    "ev1,ev2=project_pcl_pca(dpf,\n",
    "             voxel_size=0.02,\n",
    "             nb=5,\n",
    "             std_ratio=1.5,\n",
    "             p_th=0.1,\n",
    "             ig=\"Linearity\",\n",
    "             upper=True\n",
    "            )"
   ]
  },
  {
   "cell_type": "code",
   "execution_count": 302,
   "metadata": {},
   "outputs": [
    {
     "data": {
      "text/plain": [
       "(array([-0.00957793, -0.01194843, -0.99988274]),\n",
       " array([ 0.24543132, -0.96937001,  0.00923281]))"
      ]
     },
     "execution_count": 302,
     "metadata": {},
     "output_type": "execute_result"
    }
   ],
   "source": [
    "ev1, ev2"
   ]
  },
  {
   "cell_type": "code",
   "execution_count": 303,
   "metadata": {},
   "outputs": [
    {
     "data": {
      "text/plain": [
       "1.0"
      ]
     },
     "execution_count": 303,
     "metadata": {},
     "output_type": "execute_result"
    }
   ],
   "source": [
    "np.linalg.norm(ev1, 2)"
   ]
  },
  {
   "cell_type": "code",
   "execution_count": 304,
   "metadata": {},
   "outputs": [
    {
     "data": {
      "text/plain": [
       "PointCloud with 1420 points."
      ]
     },
     "execution_count": 304,
     "metadata": {},
     "output_type": "execute_result"
    }
   ],
   "source": [
    "dpf"
   ]
  },
  {
   "cell_type": "code",
   "execution_count": 305,
   "metadata": {},
   "outputs": [],
   "source": [
    "o3d.visualization.draw_geometries([dpf])"
   ]
  },
  {
   "cell_type": "code",
   "execution_count": 306,
   "metadata": {},
   "outputs": [],
   "source": [
    "def return_rot(vect, ang):\n",
    "    cosA = np.cos(ang)\n",
    "    sinA = np.sin(ang)\n",
    "    oneMinusCosA = 1-cosA\n",
    "    out = np.zeros((3, 3))          \n",
    "    out[0, 0] = (cosA + vect[0] * vect[0] * oneMinusCosA)\n",
    "    out[0, 1] = (vect[1] * vect[0] * oneMinusCosA + vect[2] * sinA)\n",
    "    out[0, 2] = (vect[2] * vect[0] * oneMinusCosA - vect[1] * sinA)\n",
    "    out[1, 0] = (vect[0] * vect[1] * oneMinusCosA - vect[2] * sinA)\n",
    "    out[1, 1] = (cosA + vect[1] * vect[1] * oneMinusCosA)\n",
    "    out[1, 2] = (vect[2] * vect[1] * oneMinusCosA + vect[0] * sinA)\n",
    "    out[2, 0] = (vect[0] * vect[2] * oneMinusCosA + vect[1] * sinA)\n",
    "    out[2, 1] = (vect[1] * vect[2] * oneMinusCosA - vect[0] * sinA)\n",
    "    out[2, 2] = (cosA + vect[2] * vect[2] * oneMinusCosA)\n",
    "    return out"
   ]
  },
  {
   "cell_type": "code",
   "execution_count": 307,
   "metadata": {},
   "outputs": [],
   "source": [
    "aux1 = np.cross(ev1, np.array([0.0, 0.0, 1.0]))\n",
    "aux1 = aux1/np.linalg.norm(aux1)\n",
    "aux2 = ev1[2]/np.linalg.norm(ev1)\n",
    "aux2 = np.arccos(aux2)\n",
    "rot = return_rot(aux1, aux2)"
   ]
  },
  {
   "cell_type": "code",
   "execution_count": 308,
   "metadata": {},
   "outputs": [],
   "source": [
    "cloud = dpf\n",
    "mesh_frame = o3d.geometry.TriangleMesh.create_coordinate_frame(size=80.0, origin=cloud.get_center())\n",
    "cloud.rotate(rot)\n",
    "o3d.visualization.draw_geometries([cloud, mesh_frame])"
   ]
  },
  {
   "cell_type": "code",
   "execution_count": 309,
   "metadata": {},
   "outputs": [
    {
     "name": "stdout",
     "output_type": "stream",
     "text": [
      "{0: 82, 1: 159, 2: 188, 3: 174, 4: 177, 5: 153, 6: 165, 7: 138, 8: 150, 9: 33}\n"
     ]
    }
   ],
   "source": [
    "p = np.asarray(cloud.points)\n",
    "INICIAL_CENTER = cloud.get_center()[:2]\n",
    "INITIAL_RADIUS = (np.max(n_p[:, 1]) - np.min(n_p[:, 1]))*0.4\n",
    "n_p = np.copy(p)\n",
    "\n",
    "\n",
    "low_bound = np.min(n_p[:, 2])\n",
    "high_bound = np.max(n_p[:, 2])\n",
    "l = high_bound - low_bound\n",
    "N_SLICES = 10\n",
    "nd = {i:0 for i in range(N_SLICES)}\n",
    "pd = {i:[] for i in range(N_SLICES)}\n",
    "for cont, i in enumerate(n_p):\n",
    "    for j in range(N_SLICES):\n",
    "        if i[2]>= low_bound+j*l/N_SLICES and i[2] < low_bound+(j+1)*l/N_SLICES:\n",
    "            nd[j] += 1\n",
    "            pd[j].append([n_p[cont, 0], n_p[cont, 1]])\n",
    "            n_p[cont, 2] = low_bound+j*l/N_SLICES\n",
    "print(nd)\n",
    "test = o3d.geometry.PointCloud()\n",
    "test.points = o3d.utility.Vector3dVector(n_p)\n",
    "o3d.visualization.draw_geometries([test])"
   ]
  },
  {
   "cell_type": "code",
   "execution_count": 310,
   "metadata": {},
   "outputs": [
    {
     "data": {
      "text/plain": [
       "(array([10842.10028169, 24890.67042254]), 69.52027235219603)"
      ]
     },
     "execution_count": 310,
     "metadata": {},
     "output_type": "execute_result"
    }
   ],
   "source": [
    "INICIAL_CENTER, INITIAL_RADIUS\n"
   ]
  },
  {
   "cell_type": "code",
   "execution_count": 311,
   "metadata": {},
   "outputs": [
    {
     "name": "stdout",
     "output_type": "stream",
     "text": [
      "10845.101===24869.17===4.103146195411682\n",
      "10848.601===24881.92===3.214474320411682\n",
      "10836.132===24887.428===4.185543656349182\n",
      "10847.976===24890.232===3.492794632911682\n",
      "10850.351===24893.17===3.478146195411682\n",
      "10850.491===24894.615===3.534298539161682\n",
      "10852.726===24897.764===3.546505570411682\n",
      "10853.476===24898.92===3.517208695411682\n",
      "10855.241===24900.568===3.505001664161682\n",
      "10846.601===24908.795===4.415646195411682\n",
      "3.699276566505432\n"
     ]
    }
   ],
   "source": [
    "mm = []\n",
    "for i in range(N_SLICES):\n",
    "    pointss = np.array(pd[i])\n",
    "\n",
    "    guessed_cx = INICIAL_CENTER[0]    \n",
    "    guessed_cy = INICIAL_CENTER[1]\n",
    "    guessed_r = INITIAL_RADIUS\n",
    "\n",
    "# uncertainty of the initial guess\n",
    "    uncertainty = 40.0\n",
    "\n",
    "# width where points can still be counted to be part of the ring\n",
    "    epsilon = 4.0\n",
    "\n",
    "# perform the transformation\n",
    "    hough_cx, hough_cy, hough_r = main(\n",
    "        guessed_cx, guessed_cy, guessed_r, pointss,\n",
    "        uncertainty, epsilon\n",
    "    )\n",
    "    mm.append(hough_r*2/25.6)\n",
    "    #return found ring center and its radius\n",
    "    print(hough_cx, hough_cy, hough_r*2/25.6, sep=\"===\")\n",
    "print(np.mean(np.array(mm)))"
   ]
  },
  {
   "cell_type": "code",
   "execution_count": 162,
   "metadata": {},
   "outputs": [
    {
     "data": {
      "text/plain": [
       "array([[-20643.31,    909.47,      0.  ],\n",
       "       [-20634.31,    930.47,      0.  ],\n",
       "       [-20745.31,    819.47,      0.  ],\n",
       "       ...,\n",
       "       [-20692.31,    883.47,      0.  ],\n",
       "       [-20630.31,    937.47,      0.  ],\n",
       "       [-20740.31,    834.47,      0.  ]])"
      ]
     },
     "execution_count": 162,
     "metadata": {},
     "output_type": "execute_result"
    }
   ],
   "source": [
    "n_p"
   ]
  },
  {
   "cell_type": "code",
   "execution_count": 93,
   "metadata": {},
   "outputs": [
    {
     "data": {
      "text/plain": [
       "PointCloud with 6000 points."
      ]
     },
     "execution_count": 93,
     "metadata": {},
     "output_type": "execute_result"
    }
   ],
   "source": [
    "test1.rotate(rot)"
   ]
  },
  {
   "cell_type": "code",
   "execution_count": 95,
   "metadata": {},
   "outputs": [],
   "source": [
    "o3d.visualization.draw_geometries([test1, mesh_frame])"
   ]
  },
  {
   "cell_type": "code",
   "execution_count": 63,
   "metadata": {},
   "outputs": [
    {
     "name": "stdout",
     "output_type": "stream",
     "text": [
      "12\n",
      "7\n"
     ]
    }
   ],
   "source": [
    "b = 7\n",
    "a = b\n",
    "b += 5\n",
    "print(b, a, sep='\\n')"
   ]
  },
  {
   "cell_type": "code",
   "execution_count": 55,
   "metadata": {},
   "outputs": [],
   "source": [
    "o3d.visualization.draw_geometries([test1, test2, test3])"
   ]
  },
  {
   "cell_type": "code",
   "execution_count": 187,
   "metadata": {},
   "outputs": [],
   "source": []
  },
  {
   "cell_type": "code",
   "execution_count": 56,
   "metadata": {},
   "outputs": [
    {
     "name": "stdout",
     "output_type": "stream",
     "text": [
      "-20655.346===1721.4961===79.80039\n"
     ]
    }
   ],
   "source": [
    "guessed_cx = test1.get_center()[0]\n",
    "guessed_cy = test1.get_center()[2]\n",
    "guessed_r = 80\n",
    "\n",
    "# uncertainty of the initial guess\n",
    "uncertainty = 0.2\n",
    "\n",
    "# width where points can still be counted to be part of the ring\n",
    "epsilon = 10.0\n",
    "\n",
    "# perform the transformation\n",
    "hough_cx, hough_cy, hough_r = main(\n",
    "    guessed_cx, guessed_cy, guessed_r, out[:6000, :2],\n",
    "    uncertainty, epsilon\n",
    ")\n",
    "\n",
    "#return found ring center and its radius\n",
    "print(hough_cx, hough_cy, hough_r, sep=\"===\")"
   ]
  },
  {
   "cell_type": "code",
   "execution_count": null,
   "metadata": {},
   "outputs": [],
   "source": []
  }
 ],
 "metadata": {
  "interpreter": {
   "hash": "6d4c8b47f19c36439ad4c0c5fd42831aa994e59a38f75b80a5c55e5fa0f245ba"
  },
  "kernelspec": {
   "display_name": "Python 3",
   "language": "python",
   "name": "python3"
  },
  "language_info": {
   "codemirror_mode": {
    "name": "ipython",
    "version": 3
   },
   "file_extension": ".py",
   "mimetype": "text/x-python",
   "name": "python",
   "nbconvert_exporter": "python",
   "pygments_lexer": "ipython3",
   "version": "3.9.0"
  }
 },
 "nbformat": 4,
 "nbformat_minor": 5
}
