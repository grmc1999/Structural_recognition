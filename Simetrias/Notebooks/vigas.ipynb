{
 "metadata": {
  "language_info": {
   "codemirror_mode": {
    "name": "ipython",
    "version": 3
   },
   "file_extension": ".py",
   "mimetype": "text/x-python",
   "name": "python",
   "nbconvert_exporter": "python",
   "pygments_lexer": "ipython3",
   "version": "3.8.10"
  },
  "orig_nbformat": 4,
  "kernelspec": {
   "name": "python3",
   "display_name": "Python 3.8.10 64-bit ('innovate': conda)"
  },
  "interpreter": {
   "hash": "6d4c8b47f19c36439ad4c0c5fd42831aa994e59a38f75b80a5c55e5fa0f245ba"
  }
 },
 "nbformat": 4,
 "nbformat_minor": 2,
 "cells": [
  {
   "cell_type": "code",
   "execution_count": 70,
   "metadata": {},
   "outputs": [],
   "source": [
    "import sys\n",
    "import pathlib\n",
    "pth=str(pathlib.Path().absolute())\n",
    "sys.path.append(('\\\\').join(pth.split('\\\\')[:-1])+\"\\\\Utils\")\n",
    "from Utilities import *\n",
    "from MF import *\n",
    "from Visualization_utilities import *\n",
    "from transformation import Transformation\n",
    "from Signatures import Signature\n",
    "import os"
   ]
  },
  {
   "cell_type": "code",
   "execution_count": 71,
   "metadata": {},
   "outputs": [],
   "source": [
    "def return_rot(vect, ang):\n",
    "    cosA = np.cos(ang)\n",
    "    sinA = np.sin(ang)\n",
    "    oneMinusCosA = 1-cosA\n",
    "    out = np.zeros((3, 3))          \n",
    "    out[0, 0] = (cosA + vect[0] * vect[0] * oneMinusCosA)\n",
    "    out[0, 1] = (vect[1] * vect[0] * oneMinusCosA + vect[2] * sinA)\n",
    "    out[0, 2] = (vect[2] * vect[0] * oneMinusCosA - vect[1] * sinA)\n",
    "    out[1, 0] = (vect[0] * vect[1] * oneMinusCosA - vect[2] * sinA)\n",
    "    out[1, 1] = (cosA + vect[1] * vect[1] * oneMinusCosA)\n",
    "    out[1, 2] = (vect[2] * vect[1] * oneMinusCosA + vect[0] * sinA)\n",
    "    out[2, 0] = (vect[0] * vect[2] * oneMinusCosA + vect[1] * sinA)\n",
    "    out[2, 1] = (vect[1] * vect[2] * oneMinusCosA - vect[0] * sinA)\n",
    "    out[2, 2] = (cosA + vect[2] * vect[2] * oneMinusCosA)\n",
    "    return out"
   ]
  },
  {
   "cell_type": "code",
   "execution_count": 94,
   "metadata": {},
   "outputs": [],
   "source": [
    "import open3d as o3d\n",
    "\n",
    "pts = 'Beam-W_W8x2_pulg_ac_210.pts'\n",
    "#pts = 'Beam-W_W8x1000_pulg_mb_368.pts'\n",
    "#pts = 'Beam-W_W4x1301_pulg_mb_261.pts'\n",
    "#pts = \"Beam-W_W8x2102_pulg_ac_208.pts\"\n",
    "dpf=o3d.io.read_point_cloud(\"E:\\\\INNOVATE\\\\DB_TRAINING_1024_PTS\\\\\"+pts.split('_')[0]+\"\\\\\"+pts)\n",
    "\n",
    "\n",
    "ev1,ev2=project_pcl_pca(dpf,\n",
    "             voxel_size=0.02,\n",
    "             nb=5,\n",
    "             std_ratio=1.5,\n",
    "             p_th=0.1,\n",
    "             ig=\"Linearity\",\n",
    "             upper=True\n",
    "            )\n",
    "\n",
    "o3d.visualization.draw_geometries([dpf])"
   ]
  },
  {
   "cell_type": "code",
   "execution_count": 95,
   "metadata": {},
   "outputs": [
    {
     "output_type": "execute_result",
     "data": {
      "text/plain": [
       "(array([-0.8103288 ,  0.58596194,  0.00397953]),\n",
       " array([-0.17503539, -0.24852712,  0.95267879]))"
      ]
     },
     "metadata": {},
     "execution_count": 95
    }
   ],
   "source": [
    "ev1, ev2"
   ]
  },
  {
   "cell_type": "code",
   "execution_count": 96,
   "metadata": {},
   "outputs": [],
   "source": [
    "aux1 = np.cross(ev1, np.array([0.0, 0.0, 1.0]))\n",
    "aux1 = aux1/np.linalg.norm(aux1)\n",
    "aux2 = ev1[2]/np.linalg.norm(ev1)\n",
    "aux2 = np.arccos(aux2)\n",
    "rot = return_rot(aux1, aux2)"
   ]
  },
  {
   "cell_type": "code",
   "execution_count": 97,
   "metadata": {},
   "outputs": [],
   "source": [
    "cloud = dpf\n",
    "mesh_frame = o3d.geometry.TriangleMesh.create_coordinate_frame(size=80.0, origin=cloud.get_center())\n",
    "cloud.rotate(rot)\n",
    "o3d.visualization.draw_geometries([cloud, mesh_frame])"
   ]
  },
  {
   "cell_type": "code",
   "execution_count": 98,
   "metadata": {},
   "outputs": [
    {
     "output_type": "stream",
     "name": "stdout",
     "text": [
      "{0: 1598, 1: 4109, 2: 3143, 3: 4148, 4: 3399, 5: 3619, 6: 2769, 7: 2666, 8: 2817, 9: 1862}\n"
     ]
    }
   ],
   "source": [
    "p = np.asarray(cloud.points)\n",
    "n_p = np.copy(p)\n",
    "\n",
    "\n",
    "low_bound = np.min(n_p[:, 2])\n",
    "high_bound = np.max(n_p[:, 2])\n",
    "l = high_bound - low_bound\n",
    "N_SLICES = 10\n",
    "nd = {i:0 for i in range(N_SLICES)}\n",
    "pd = {i:[] for i in range(N_SLICES)}\n",
    "\n",
    "for cont, i in enumerate(n_p):\n",
    "    for j in range(N_SLICES):\n",
    "        if i[2]>= low_bound+j*l/N_SLICES and i[2] < low_bound+(j+1)*l/N_SLICES:\n",
    "            nd[j] += 1\n",
    "            pd[j].append([n_p[cont, 0], n_p[cont, 1]])\n",
    "            n_p[cont, 2] = low_bound+j*l/N_SLICES\n",
    "print(nd)\n",
    "test = o3d.geometry.PointCloud()\n",
    "test.points = o3d.utility.Vector3dVector(n_p)\n",
    "o3d.visualization.draw_geometries([test])"
   ]
  },
  {
   "cell_type": "code",
   "execution_count": null,
   "metadata": {},
   "outputs": [],
   "source": []
  },
  {
   "cell_type": "code",
   "execution_count": 102,
   "metadata": {},
   "outputs": [
    {
     "output_type": "execute_result",
     "data": {
      "text/plain": [
       "312.63235973272714"
      ]
     },
     "metadata": {},
     "execution_count": 102
    }
   ],
   "source": [
    "ww = []\n",
    "hh = []\n",
    "for i in pd.keys():\n",
    "    pd[i] = np.array(pd[i])\n",
    "    co = pd[i].T.dot(pd[i])\n",
    "    _, v = np.linalg.eig(co)\n",
    "    aux = pd[i]\n",
    "    init = np.random.random((aux.shape[0], 3))\n",
    "    init[:, :2] = aux\n",
    "    naux = o3d.geometry.PointCloud()\n",
    "    naux.points = o3d.utility.Vector3dVector(init)\n",
    "    naux.rotate(naux.get_rotation_matrix_from_axis_angle(np.array([0., 0., np.arctan(v[0, 1]/v[0, 0])])))\n",
    "    puntex = np.asarray(naux.points)\n",
    "    w = np.max(puntex[:, 1]) - np.min(puntex[:, 1])\n",
    "    h = np.max(puntex[:, 0]) - np.min(puntex[:, 0])\n",
    "    ww.append(w)\n",
    "    hh.append(h)\n",
    "\n",
    "    naux.translate(-naux.get_center())\n",
    "    mesh_frame = o3d.geometry.TriangleMesh.create_coordinate_frame(size=8.0, origin=np.array([0., 0., 0.]))\n",
    "    o3d.visualization.draw_geometries([naux, mesh_frame])\n",
    "np.mean(np.array(ww))\n",
    "np.mean(np.array(hh))"
   ]
  },
  {
   "cell_type": "code",
   "execution_count": null,
   "metadata": {},
   "outputs": [],
   "source": [
    "np.cov(pd[0])]"
   ]
  },
  {
   "cell_type": "code",
   "execution_count": 35,
   "metadata": {},
   "outputs": [],
   "source": [
    "co = pd[1].T.dot(pd[1])"
   ]
  },
  {
   "cell_type": "code",
   "execution_count": 36,
   "metadata": {},
   "outputs": [],
   "source": [
    "w, v = np.linalg.eig(co)"
   ]
  },
  {
   "cell_type": "code",
   "execution_count": 37,
   "metadata": {},
   "outputs": [
    {
     "output_type": "execute_result",
     "data": {
      "text/plain": [
       "array([[-0.92263623, -0.38567135],\n",
       "       [ 0.38567135, -0.92263623]])"
      ]
     },
     "metadata": {},
     "execution_count": 37
    }
   ],
   "source": [
    "v"
   ]
  },
  {
   "cell_type": "code",
   "execution_count": 69,
   "metadata": {},
   "outputs": [],
   "source": [
    "\n",
    "mesh_frame = o3d.geometry.TriangleMesh.create_coordinate_frame(size=80.0, origin=cloud.get_center())\n",
    "mesh_frame.rotate(mesh_frame.get_rotation_matrix_from_axis_angle(np.array([0., 0., np.arctan(-0.385/0.922)])))\n",
    "mesh_frame.translate(np.array([0, 0, 3*l/10]))\n",
    "o3d.visualization.draw_geometries([mesh_frame, test])"
   ]
  },
  {
   "cell_type": "code",
   "execution_count": 30,
   "metadata": {},
   "outputs": [
    {
     "output_type": "error",
     "ename": "TypeError",
     "evalue": "return arrays must be of ArrayType",
     "traceback": [
      "\u001b[1;31m---------------------------------------------------------------------------\u001b[0m",
      "\u001b[1;31mTypeError\u001b[0m                                 Traceback (most recent call last)",
      "\u001b[1;32m<ipython-input-30-18548014f297>\u001b[0m in \u001b[0;36m<module>\u001b[1;34m\u001b[0m\n\u001b[1;32m----> 1\u001b[1;33m \u001b[0mnp\u001b[0m\u001b[1;33m.\u001b[0m\u001b[0marctan\u001b[0m\u001b[1;33m(\u001b[0m\u001b[1;33m-\u001b[0m\u001b[1;36m0.385\u001b[0m\u001b[1;33m,\u001b[0m \u001b[1;33m-\u001b[0m\u001b[1;36m0.922\u001b[0m\u001b[1;33m)\u001b[0m\u001b[1;33m\u001b[0m\u001b[1;33m\u001b[0m\u001b[0m\n\u001b[0m",
      "\u001b[1;31mTypeError\u001b[0m: return arrays must be of ArrayType"
     ]
    }
   ],
   "source": [
    "np.arctan(-0.385, -0.922)"
   ]
  },
  {
   "cell_type": "code",
   "execution_count": 40,
   "metadata": {},
   "outputs": [],
   "source": [
    "mesh_frame = o3d.geometry.TriangleMesh.create_coordinate_frame(size=80.0, origin=cloud.get_center())\n",
    "test.rotate(mesh_frame.get_rotation_matrix_from_axis_angle(np.array([0., 0., np.arctan(0.385/0.922)])))\n",
    "\n",
    "o3d.visualization.draw_geometries([mesh_frame, test])"
   ]
  },
  {
   "cell_type": "code",
   "execution_count": null,
   "metadata": {},
   "outputs": [],
   "source": []
  }
 ]
}