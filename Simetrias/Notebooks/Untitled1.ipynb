{
 "cells": [
  {
   "cell_type": "code",
   "execution_count": 3,
   "id": "c3d9f06e",
   "metadata": {},
   "outputs": [],
   "source": [
    "import sys\n",
    "import getopt\n",
    "import os\n",
    "sys.path.append(\"D:\\\\INNOVATE\\\\proyectox\\\\Simetrias\\\\Utils\")\n",
    "\n",
    "from Utilities import *\n",
    "from MF import *\n",
    "from Visualization_utilities import *\n",
    "from transformation import Transformation\n",
    "from Signatures import Signature"
   ]
  },
  {
   "cell_type": "code",
   "execution_count": 2,
   "id": "13266631",
   "metadata": {},
   "outputs": [
    {
     "name": "stdout",
     "output_type": "stream",
     "text": [
      "[Open3D WARNING] Unable to load file D:\\Documentos\\INNOVATE\\lib\\symmetry-detection-reflection\\mesh\\Wine_Bottle.obj with ASSIMP\n"
     ]
    },
    {
     "ename": "RuntimeError",
     "evalue": "[Open3D Error] (class std::shared_ptr<class open3d::geometry::PointCloud> __cdecl open3d::geometry::TriangleMesh::SamplePointsUniformly(unsigned __int64,bool,int)) D:\\INNOVATE\\Libraries\\Open3D\\cpp\\open3d\\geometry\\TriangleMesh.cpp:527: [SamplePointsUniformly] input mesh has no triangles\n",
     "output_type": "error",
     "traceback": [
      "\u001b[1;31m---------------------------------------------------------------------------\u001b[0m",
      "\u001b[1;31mRuntimeError\u001b[0m                              Traceback (most recent call last)",
      "\u001b[1;32m<ipython-input-2-ddb9d7002c26>\u001b[0m in \u001b[0;36m<module>\u001b[1;34m\u001b[0m\n\u001b[0;32m      1\u001b[0m \u001b[0mmesh\u001b[0m \u001b[1;33m=\u001b[0m \u001b[0mo3d\u001b[0m\u001b[1;33m.\u001b[0m\u001b[0mio\u001b[0m\u001b[1;33m.\u001b[0m\u001b[0mread_triangle_mesh\u001b[0m\u001b[1;33m(\u001b[0m\u001b[1;34m\"D:\\Documentos\\INNOVATE\\lib\\symmetry-detection-reflection\\mesh\\Wine_Bottle.obj\"\u001b[0m\u001b[1;33m)\u001b[0m\u001b[1;33m\u001b[0m\u001b[1;33m\u001b[0m\u001b[0m\n\u001b[1;32m----> 2\u001b[1;33m \u001b[0mdp\u001b[0m \u001b[1;33m=\u001b[0m \u001b[0mmesh\u001b[0m\u001b[1;33m.\u001b[0m\u001b[0msample_points_uniformly\u001b[0m\u001b[1;33m(\u001b[0m\u001b[0mnumber_of_points\u001b[0m\u001b[1;33m=\u001b[0m\u001b[1;36m19500\u001b[0m\u001b[1;33m)\u001b[0m\u001b[1;33m\u001b[0m\u001b[1;33m\u001b[0m\u001b[0m\n\u001b[0m\u001b[0;32m      3\u001b[0m \u001b[0mdp\u001b[0m\u001b[1;33m.\u001b[0m\u001b[0mestimate_normals\u001b[0m\u001b[1;33m(\u001b[0m\u001b[0msearch_param\u001b[0m\u001b[1;33m=\u001b[0m\u001b[0mo3d\u001b[0m\u001b[1;33m.\u001b[0m\u001b[0mgeometry\u001b[0m\u001b[1;33m.\u001b[0m\u001b[0mKDTreeSearchParamKNN\u001b[0m\u001b[1;33m(\u001b[0m\u001b[1;36m30\u001b[0m\u001b[1;33m)\u001b[0m\u001b[1;33m)\u001b[0m\u001b[1;33m\u001b[0m\u001b[1;33m\u001b[0m\u001b[0m\n\u001b[0;32m      4\u001b[0m \u001b[0mdp\u001b[0m\u001b[1;33m=\u001b[0m\u001b[0mdp\u001b[0m\u001b[1;33m.\u001b[0m\u001b[0mvoxel_down_sample\u001b[0m\u001b[1;33m(\u001b[0m\u001b[0mvoxel_size\u001b[0m\u001b[1;33m=\u001b[0m\u001b[1;36m0.01\u001b[0m\u001b[1;33m)\u001b[0m\u001b[1;33m\u001b[0m\u001b[1;33m\u001b[0m\u001b[0m\n\u001b[0;32m      5\u001b[0m \u001b[0mo3d\u001b[0m\u001b[1;33m.\u001b[0m\u001b[0mvisualization\u001b[0m\u001b[1;33m.\u001b[0m\u001b[0mdraw_geometries\u001b[0m\u001b[1;33m(\u001b[0m\u001b[1;33m[\u001b[0m\u001b[0mdp\u001b[0m\u001b[1;33m]\u001b[0m\u001b[1;33m)\u001b[0m\u001b[1;33m\u001b[0m\u001b[1;33m\u001b[0m\u001b[0m\n",
      "\u001b[1;31mRuntimeError\u001b[0m: [Open3D Error] (class std::shared_ptr<class open3d::geometry::PointCloud> __cdecl open3d::geometry::TriangleMesh::SamplePointsUniformly(unsigned __int64,bool,int)) D:\\INNOVATE\\Libraries\\Open3D\\cpp\\open3d\\geometry\\TriangleMesh.cpp:527: [SamplePointsUniformly] input mesh has no triangles\n"
     ]
    }
   ],
   "source": [
    "mesh = o3d.io.read_triangle_mesh(\"D:\\Documentos\\INNOVATE\\lib\\symmetry-detection-reflection\\mesh\\Wine_Bottle.obj\")\n",
    "dp = mesh.sample_points_uniformly(number_of_points=19500)\n",
    "dp.estimate_normals(search_param=o3d.geometry.KDTreeSearchParamKNN(30))\n",
    "dp=dp.voxel_down_sample(voxel_size=0.01)\n",
    "o3d.visualization.draw_geometries([dp])"
   ]
  },
  {
   "cell_type": "code",
   "execution_count": 8,
   "id": "e5985283",
   "metadata": {},
   "outputs": [],
   "source": [
    "dir=\"D:\\\\INNOVATE\\\\Proyecto_Beams\\\\ANDRYZ\\\\Revision\\\\Aceptado\\\\\"\n",
    "name=os.listdir(dir)\n",
    "pts = o3d.io.read_point_cloud(dir+name[0])\n",
    "o3d.visualization.draw_geometries([pts])"
   ]
  },
  {
   "cell_type": "code",
   "execution_count": 11,
   "id": "23b711f1",
   "metadata": {},
   "outputs": [
    {
     "name": "stdout",
     "output_type": "stream",
     "text": [
      "Showing outliers (red) and inliers (gray): \n"
     ]
    }
   ],
   "source": [
    "dp=Geometry_load(path=dir+name[0],\n",
    "                    visualization=True,\n",
    "                    voxel_down_sample=0.02,\n",
    "                    geometry_type=\"pointCloud\")"
   ]
  },
  {
   "cell_type": "code",
   "execution_count": 12,
   "id": "94ce396c",
   "metadata": {},
   "outputs": [
    {
     "data": {
      "text/plain": [
       "array([None, None, None, ..., None, None, None], dtype=object)"
      ]
     },
     "execution_count": 12,
     "metadata": {},
     "output_type": "execute_result"
    }
   ],
   "source": [
    "indexes=np.arange(np.asarray(dp.points).shape[0])\n",
    "pt = o3d.geometry.KDTreeFlann(dp)\n",
    "signatures=Signature(dp,pt,indexes)\n",
    "Signature().v_build(signatures,NN_Criteria=\"KNN\",\n",
    "                    rad=np.std(np.asarray(dp.points)-np.mean(np.asarray(dp.points),axis=0))/4,\n",
    "                    NN=30)"
   ]
  },
  {
   "cell_type": "code",
   "execution_count": 13,
   "id": "52289a60",
   "metadata": {},
   "outputs": [
    {
     "data": {
      "text/plain": [
       "array([<Signatures.Signature object at 0x000002850FF935C0>,\n",
       "       <Signatures.Signature object at 0x000002850FF93358>,\n",
       "       <Signatures.Signature object at 0x000002850FF936D8>, ...,\n",
       "       <Signatures.Signature object at 0x00000285130BED30>,\n",
       "       <Signatures.Signature object at 0x00000285130BED68>,\n",
       "       <Signatures.Signature object at 0x00000285130BEDA0>], dtype=object)"
      ]
     },
     "execution_count": 13,
     "metadata": {},
     "output_type": "execute_result"
    }
   ],
   "source": [
    "signaturesp=remove_discontinuities_by_curvature(dp,signatures,pt,curvature=0.4,radius=0.02)"
   ]
  }
 ],
 "metadata": {
  "kernelspec": {
   "display_name": "Python 3",
   "language": "python",
   "name": "python3"
  },
  "language_info": {
   "codemirror_mode": {
    "name": "ipython",
    "version": 3
   },
   "file_extension": ".py",
   "mimetype": "text/x-python",
   "name": "python",
   "nbconvert_exporter": "python",
   "pygments_lexer": "ipython3",
   "version": "3.6.13"
  }
 },
 "nbformat": 4,
 "nbformat_minor": 5
}
