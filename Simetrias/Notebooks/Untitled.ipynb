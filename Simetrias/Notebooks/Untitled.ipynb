{
 "cells": [
  {
   "cell_type": "code",
   "execution_count": 1,
   "metadata": {},
   "outputs": [],
   "source": [
    "import sys\n",
    "import getopt\n",
    "sys.path.append(\"D:\\\\Documentos\\\\INNOVATE\\\\GH\\\\proyectox\\\\Simetrias\\\\Utils\")\n",
    "\n",
    "from Utilities import *\n",
    "from MF import *\n",
    "from Visualization_utilities import *\n",
    "from transformation import Transformation\n",
    "from Signatures import Signature"
   ]
  },
  {
   "cell_type": "code",
   "execution_count": 2,
   "metadata": {},
   "outputs": [],
   "source": [
    "mesh = o3d.io.read_triangle_mesh(\"D:\\Documentos\\INNOVATE\\lib\\symmetry-detection-reflection\\mesh\\Wine_Bottle.obj\")\n",
    "dp = mesh.sample_points_uniformly(number_of_points=19500)\n",
    "dp.estimate_normals(search_param=o3d.geometry.KDTreeSearchParamKNN(30))\n",
    "dp=dp.voxel_down_sample(voxel_size=0.01)\n",
    "o3d.visualization.draw_geometries([dp])"
   ]
  },
  {
   "cell_type": "code",
   "execution_count": 3,
   "metadata": {},
   "outputs": [
    {
     "data": {
      "text/plain": [
       "array([None, None, None, ..., None, None, None], dtype=object)"
      ]
     },
     "execution_count": 3,
     "metadata": {},
     "output_type": "execute_result"
    }
   ],
   "source": [
    "indexes=np.arange(np.asarray(dp.points).shape[0])\n",
    "pt = o3d.geometry.KDTreeFlann(dp)\n",
    "signatures=Signature(dp,pt,indexes)\n",
    "Signature().v_build(signatures,NN_Criteria=\"KNN\",\n",
    "                    rad=np.std(np.asarray(dp.points)-np.mean(np.asarray(dp.points),axis=0))/4,\n",
    "                    NN=30)"
   ]
  },
  {
   "cell_type": "code",
   "execution_count": 4,
   "metadata": {},
   "outputs": [],
   "source": [
    "signaturesp=remove_discontinuities_by_curvature(dp,signatures,pt,curvature=0.4,radius=0.02)"
   ]
  },
  {
   "cell_type": "code",
   "execution_count": 5,
   "metadata": {},
   "outputs": [],
   "source": [
    "pp=prune_points(signaturesp,\"sphericity\",0.0005)"
   ]
  },
  {
   "cell_type": "code",
   "execution_count": 6,
   "metadata": {},
   "outputs": [
    {
     "name": "stdout",
     "output_type": "stream",
     "text": [
      "Random points\n",
      "188\n"
     ]
    }
   ],
   "source": [
    "ppp=random_sample(pp,0.01)\n",
    "print(\"Random points\")\n",
    "print(len(ppp))"
   ]
  },
  {
   "cell_type": "code",
   "execution_count": 7,
   "metadata": {},
   "outputs": [],
   "source": [
    "[trans_s,rs,KDT,query]=build_pairing_kd_tree(dp,pp,rad=10000.6,rand_samp_percentage=0.01,\n",
    "                                            rigid=True,only_reflections=True,NN=60)"
   ]
  },
  {
   "cell_type": "code",
   "execution_count": 13,
   "metadata": {},
   "outputs": [],
   "source": [
    "std=np.std(Transformation().v_toPoint(trans_s[:,0]))\n",
    "[Clusters,points,Clust_set]=run_clustering_OPTICS(min_samples=30,max_eps=std,xi=0.001,Trans_Space=trans_s)"
   ]
  },
  {
   "cell_type": "code",
   "execution_count": 14,
   "metadata": {},
   "outputs": [],
   "source": [
    "points=Transformation().v_toPoint(trans_s)"
   ]
  },
  {
   "cell_type": "code",
   "execution_count": 15,
   "metadata": {},
   "outputs": [
    {
     "data": {
      "text/plain": [
       "(11092, 2, 7)"
      ]
     },
     "execution_count": 15,
     "metadata": {},
     "output_type": "execute_result"
    }
   ],
   "source": [
    "points.shape"
   ]
  },
  {
   "cell_type": "code",
   "execution_count": 29,
   "metadata": {},
   "outputs": [],
   "source": [
    "points_0=points[:,0,1:]"
   ]
  },
  {
   "cell_type": "code",
   "execution_count": null,
   "metadata": {},
   "outputs": [],
   "source": [
    "points_0"
   ]
  }
 ],
 "metadata": {
  "kernelspec": {
   "display_name": "Python 3",
   "language": "python",
   "name": "python3"
  },
  "language_info": {
   "codemirror_mode": {
    "name": "ipython",
    "version": 3
   },
   "file_extension": ".py",
   "mimetype": "text/x-python",
   "name": "python",
   "nbconvert_exporter": "python",
   "pygments_lexer": "ipython3",
   "version": "3.9.0"
  }
 },
 "nbformat": 4,
 "nbformat_minor": 4
}
