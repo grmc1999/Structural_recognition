{
 "cells": [
  {
   "cell_type": "code",
   "execution_count": 1,
   "metadata": {},
   "outputs": [],
   "source": [
    "import open3d as o3d\n",
    "import numpy as np\n",
    "import sympy as sp\n",
    "import math\n",
    "import scipy as scp\n",
    "from scipy import spatial\n",
    "from Utilities import *\n",
    "import random\n",
    "from sklearn.cluster import MeanShift\n",
    "from MF import *"
   ]
  },
  {
   "cell_type": "code",
   "execution_count": 2,
   "metadata": {},
   "outputs": [],
   "source": [
    "import matplotlib.pyplot as plt"
   ]
  },
  {
   "cell_type": "code",
   "execution_count": 3,
   "metadata": {},
   "outputs": [],
   "source": [
    "from transformation import Transformation\n",
    "from Signatures import Signature"
   ]
  },
  {
   "cell_type": "code",
   "execution_count": 11,
   "metadata": {},
   "outputs": [],
   "source": [
    "p=o3d.io.read_point_cloud('D:\\Documentos\\INNOVATE\\lib\\symmetry_detection_python\\Linea 12.pts')\n",
    "dp=p.voxel_down_sample(voxel_size=0.007)\n",
    "dp=p\n",
    "dp.estimate_normals(search_param=o3d.geometry.KDTreeSearchParamHybrid(radius=0.1, max_nn=30))\n",
    "\n",
    "o3d.visualization.draw_geometries([dp],point_show_normal=False)"
   ]
  },
  {
   "cell_type": "code",
   "execution_count": 12,
   "metadata": {},
   "outputs": [
    {
     "name": "stdout",
     "output_type": "stream",
     "text": [
      "Showing outliers (red) and inliers (gray): \n"
     ]
    }
   ],
   "source": [
    "def display_inlier_outlier(cloud, ind):\n",
    "    inlier_cloud = cloud.select_by_index(ind)\n",
    "    outlier_cloud = cloud.select_by_index(ind, invert=True)\n",
    "\n",
    "    print(\"Showing outliers (red) and inliers (gray): \")\n",
    "    outlier_cloud.paint_uniform_color([1, 0, 0])\n",
    "    inlier_cloud.paint_uniform_color([0.8, 0.8, 0.8])\n",
    "    o3d.visualization.draw_geometries([inlier_cloud, outlier_cloud])\n",
    "cl, ind = dp.remove_statistical_outlier(nb_neighbors=5,std_ratio=1.5)\n",
    "display_inlier_outlier(dp, ind)\n",
    "dp=cl\n",
    "dp=dp.voxel_down_sample(voxel_size=0.007)\n",
    "dp.estimate_normals(search_param=o3d.geometry.KDTreeSearchParamHybrid(radius=0.1, max_nn=30))\n",
    "o3d.visualization.draw_geometries([dp])"
   ]
  },
  {
   "cell_type": "code",
   "execution_count": 13,
   "metadata": {},
   "outputs": [],
   "source": [
    "P=226\n",
    "point=dp.points[P]\n",
    "pt = o3d.geometry.KDTreeFlann(dp)\n",
    "[k, idx, q] = pt.search_radius_vector_3d(point, 0.06)\n",
    "#Valor aceptable pero se puede mejorar con varianza en ejes o relacion entre auto valores\n",
    "zp=np.asarray(dp.points)[idx[:], :]\n",
    "zzp=zp-np.mean(zp,axis=0)\n",
    "Cv=np.matmul(np.transpose(zzp),zzp)\n",
    "K,V=np.linalg.eig(Cv/k)\n",
    "\n",
    "mesh = o3d.geometry.TriangleMesh.create_coordinate_frame()\n",
    "mesh.scale(0.1, center=mesh.get_center())\n",
    "mesh.rotate(V, center=(0, 0, 0))\n",
    "mesh.translate(dp.points[P]-mesh.get_center())\n",
    "dp.paint_uniform_color([0.8, 0.8, 0.8])\n",
    "np.asarray(dp.colors)[idx[1:], :] = [0, 1, 0]\n",
    "mesh1 = o3d.geometry.TriangleMesh.create_coordinate_frame()\n",
    "mesh1.scale(0.2, center=mesh1.get_center())\n",
    "co2= mesh.sample_points_uniformly(number_of_points=500)\n",
    "co1= mesh1.sample_points_uniformly(number_of_points=500)\n",
    "#o3d.visualization.draw_geometries([co2,dp])"
   ]
  },
  {
   "cell_type": "code",
   "execution_count": 14,
   "metadata": {},
   "outputs": [],
   "source": [
    "sg=Signature(dp,1)"
   ]
  },
  {
   "cell_type": "code",
   "execution_count": 23,
   "metadata": {},
   "outputs": [
    {
     "name": "stdout",
     "output_type": "stream",
     "text": [
      "(82704, 3)\n"
     ]
    }
   ],
   "source": [
    "a=np.asarray(dp.points)\n",
    "print(a.shape)"
   ]
  },
  {
   "cell_type": "code",
   "execution_count": 15,
   "metadata": {},
   "outputs": [],
   "source": [
    "signatures=[]\n",
    "sg.build_signatures(signatures,radius=0.05)"
   ]
  },
  {
   "cell_type": "code",
   "execution_count": 73,
   "metadata": {},
   "outputs": [],
   "source": [
    "signatures.sort(key=lambda x: x.ratio, reverse=True)\n",
    "ini=0\n",
    "f=-1\n",
    "p=1/(len(signatures))\n",
    "dp.paint_uniform_color([0.8, 0.8, 0.8])\n",
    "z=1\n",
    "for i in range(len(signatures)):\n",
    "    index=signatures[i].point_index\n",
    "    [k, idx, _] = pt.search_radius_vector_3d(dp.points[index], 0.0001)\n",
    "    np.asarray(dp.colors)[idx[:], :] = [0,0+p*i,1-p*i]\n",
    "o3d.visualization.draw_geometries([dp])"
   ]
  },
  {
   "cell_type": "code",
   "execution_count": 71,
   "metadata": {},
   "outputs": [
    {
     "name": "stdout",
     "output_type": "stream",
     "text": [
      "82450\n",
      "49457\n"
     ]
    },
    {
     "data": {
      "text/plain": [
       "(83085, 3)"
      ]
     },
     "execution_count": 71,
     "metadata": {},
     "output_type": "execute_result"
    }
   ],
   "source": [
    "print(len(signatures))\n",
    "pp=prune_points(signatures,0.9)\n",
    "#EVITAR PUNTOS EN LAS DISONTINUIDADES----------------------------------\n",
    "    #Metodo1: Alta curvatura\n",
    "    #Metodo2: Punto final\n",
    "print(len(pp))\n",
    "#pp=random_sample(pp,0.1)\n",
    "#print(len(pp))\n",
    "np.asarray(dp.points).shape"
   ]
  },
  {
   "cell_type": "code",
   "execution_count": 68,
   "metadata": {},
   "outputs": [],
   "source": [
    "#Remove outliers by curvature\n",
    "bc=prune_points(signatures,0.2)\n",
    "for s in bc: signatures.remove(s)"
   ]
  },
  {
   "cell_type": "code",
   "execution_count": null,
   "metadata": {},
   "outputs": [],
   "source": []
  },
  {
   "cell_type": "code",
   "execution_count": 69,
   "metadata": {},
   "outputs": [
    {
     "name": "stdout",
     "output_type": "stream",
     "text": [
      "0.200008742909575\n",
      "[5.60211822e+01 3.20675333e+00 3.56293793e+03]\n",
      "14121\n"
     ]
    }
   ],
   "source": [
    "index=-1\n",
    "print(signatures[index].ratio)\n",
    "print(signatures[index].pointCoordinates)\n",
    "print(signatures[index].point_index)\n",
    "[k, idx, q] = pt.search_radius_vector_3d(signatures[index].pointCoordinates, 0.05)\n",
    "dp.paint_uniform_color([0.8, 0.8, 0.8])\n",
    "np.asarray(dp.colors)[idx[1:], :] = [0, 1, 0]\n",
    "np.asarray(dp.colors)[idx[0], :] = [1, 0, 0]\n",
    "o3d.visualization.draw_geometries([dp])"
   ]
  },
  {
   "cell_type": "code",
   "execution_count": 72,
   "metadata": {},
   "outputs": [],
   "source": [
    "#Visualizacion de prune points\n",
    "ini=0\n",
    "f=-1\n",
    "p=1/(len(pp))\n",
    "dp.paint_uniform_color([0.8, 0.8, 0.8])\n",
    "z=0\n",
    "for i in range(len(pp)):\n",
    "    index=pp[i].point_index\n",
    "    [k, idx, _] = pt.search_radius_vector_3d(dp.points[index], 0.001)\n",
    "    np.asarray(dp.colors)[idx[:], :] = [0,0+p*i,1-p*i]\n",
    "o3d.visualization.draw_geometries([dp])"
   ]
  },
  {
   "cell_type": "code",
   "execution_count": 32,
   "metadata": {},
   "outputs": [],
   "source": [
    "[trans_s,rs,KDT,query]=build_pairing_kd_tree(pp,rad=0.6,rand_samp_percentage=0.1,\n",
    "                                             rigid=True,only_reflections=True,NN=500)\n",
    "trans_s.shape\n",
    "o3d.visualization.draw_geometries([dp])"
   ]
  },
  {
   "cell_type": "code",
   "execution_count": 33,
   "metadata": {},
   "outputs": [],
   "source": [
    "ini=0\n",
    "f=-1\n",
    "p=1/(len(rs))\n",
    "dp.paint_uniform_color([0.8, 0.8, 0.8])\n",
    "z=0\n",
    "for i in range(len(rs)):\n",
    "    index=rs[i].point_index\n",
    "    [k, idx, _] = pt.search_radius_vector_3d(dp.points[index], 0.01)\n",
    "    np.asarray(dp.colors)[idx[:], :] = [0,0+p*i,1-p*i]\n",
    "o3d.visualization.draw_geometries([dp])"
   ]
  },
  {
   "cell_type": "code",
   "execution_count": 34,
   "metadata": {},
   "outputs": [],
   "source": [
    "[Cluster_trans,points]=run_clustering(trans_s,BW=5)"
   ]
  },
  {
   "cell_type": "code",
   "execution_count": 35,
   "metadata": {},
   "outputs": [
    {
     "name": "stdout",
     "output_type": "stream",
     "text": [
      "(46010, 2)\n"
     ]
    },
    {
     "data": {
      "text/plain": [
       "39841"
      ]
     },
     "execution_count": 35,
     "metadata": {},
     "output_type": "execute_result"
    }
   ],
   "source": [
    "print(Cluster_trans.shape)\n",
    "Cluster_trans[:,1].max()"
   ]
  },
  {
   "cell_type": "code",
   "execution_count": 56,
   "metadata": {},
   "outputs": [
    {
     "name": "stdout",
     "output_type": "stream",
     "text": [
      "(array([   468,    602,    666,   3728,   3802,   3846,   3862,   3890,\n",
      "         3922,   3994,   4826,   4840,   4882,   6364,   8514,   8526,\n",
      "         8590,   8864,  13030,  13052,  17760,  17796,  17810,  17990,\n",
      "        18040,  28608,  28812,  28862,  28888,  28944,  30340,  42200,\n",
      "        45704,  45730,  45756,  45798,  51552,  51598,  51610,  51614,\n",
      "        55660,  55828,  57528,  57562,  57590,  70704,  71110,  73678,\n",
      "        83278,  83280,  83290,  83306,  83316,  83352,  83358,  83384,\n",
      "        83414,  83464,  83600,  87430,  87544,  87614,  89390,  95840,\n",
      "       101100, 101172, 101176, 101216, 101360, 103630, 104068, 104070,\n",
      "       104116, 104158, 104214, 105888, 105980, 106156, 108596, 111028,\n",
      "       111030, 111038, 111180, 111202, 111740, 111742, 113348, 113372,\n",
      "       113380, 113396, 113406, 113472, 113582, 116862, 116880, 117468,\n",
      "       122284, 122334, 122448, 122470, 129906, 129960, 130618],\n",
      "      dtype=int64),)\n"
     ]
    }
   ],
   "source": [
    "dp.paint_uniform_color([0.8, 0.8, 0.8])\n",
    "cn=0\n",
    "z=1\n",
    "ind=np.where(Cluster_trans[:,z]==cn)\n",
    "print(ind)\n",
    "trans_space_cluster=trans_s[ind,z]\n",
    "\n",
    "for i in trans_space_cluster[0,:5]:\n",
    "    dp.paint_uniform_color([0.8, 0.8, 0.8])\n",
    "    [k, idx, _] = pt.search_radius_vector_3d(dp.points[i.image_index], 0.05)\n",
    "    np.asarray(dp.colors)[idx[:], :] = [1, 0, 0]\n",
    "    [k, idx, _] = pt.search_radius_vector_3d(dp.points[i.origin_index], 0.05)\n",
    "    np.asarray(dp.colors)[idx[:], :] = [0, 0, 1]\n",
    "    o3d.visualization.draw_geometries([dp])\n",
    "o3d.visualization.draw_geometries([dp])"
   ]
  },
  {
   "cell_type": "code",
   "execution_count": 39,
   "metadata": {},
   "outputs": [],
   "source": [
    "ini=0\n",
    "#f=Cluster_trans[:,0].max()\n",
    "f=100\n",
    "p=1/(f-ini)\n",
    "dp.paint_uniform_color([0.8, 0.8, 0.8])\n",
    "z=1\n",
    "for i in range(ini,f):\n",
    "    ind=np.where(Cluster_trans[:,z]==i)\n",
    "    trans_space_cluster=trans_s[ind,z]\n",
    "    for j in trans_space_cluster[0,:]:\n",
    "        #                                           R    G     B\n",
    "        [k, idx, _] = pt.search_radius_vector_3d(dp.points[j.image_index], 0.005)\n",
    "        np.asarray(dp.colors)[idx[:], :] = [0,1-p*(i-ini),0+p*(i-ini)]\n",
    "        [k, idx, _] = pt.search_radius_vector_3d(dp.points[j.origin_index], 0.005)\n",
    "        np.asarray(dp.colors)[idx[:], :] = [0,1-p*(i-ini),0+p*(i-ini)]\n",
    "o3d.visualization.draw_geometries([dp])"
   ]
  },
  {
   "cell_type": "code",
   "execution_count": 82,
   "metadata": {},
   "outputs": [
    {
     "data": {
      "text/plain": [
       "27234"
      ]
     },
     "execution_count": 82,
     "metadata": {},
     "output_type": "execute_result"
    }
   ],
   "source": [
    "Cluster_trans[:,0].max()"
   ]
  }
 ],
 "metadata": {
  "kernelspec": {
   "display_name": "Python 3",
   "language": "python",
   "name": "python3"
  },
  "language_info": {
   "codemirror_mode": {
    "name": "ipython",
    "version": 3
   },
   "file_extension": ".py",
   "mimetype": "text/x-python",
   "name": "python",
   "nbconvert_exporter": "python",
   "pygments_lexer": "ipython3",
   "version": "3.6.13"
  }
 },
 "nbformat": 4,
 "nbformat_minor": 4
}
