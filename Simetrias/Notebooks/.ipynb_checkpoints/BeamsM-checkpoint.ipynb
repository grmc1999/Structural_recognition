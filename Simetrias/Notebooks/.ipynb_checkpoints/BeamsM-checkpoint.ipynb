{
 "cells": [
  {
   "cell_type": "code",
   "execution_count": 1,
   "metadata": {},
   "outputs": [],
   "source": [
    "import sys\n",
    "import pathlib\n",
    "pth=str(pathlib.Path().absolute())\n",
    "sys.path.append(('\\\\').join(pth.split('\\\\')[:-1])+\"\\\\Utils\")\n",
    "from Utilities import *\n",
    "from MF import *\n",
    "from Visualization_utilities import *\n",
    "from transformation import Transformation\n",
    "from Signatures import Signature\n",
    "#import seaborn as sns\n",
    "#import pandas as pd"
   ]
  },
  {
   "cell_type": "code",
   "execution_count": 53,
   "metadata": {},
   "outputs": [],
   "source": [
    "def project_pcl(pcl):\n",
    "    pcl.estimate_normals(search_param=o3d.geometry.KDTreeSearchParamKNN(30))\n",
    "    pcl, ind = pcl.remove_statistical_outlier(nb_neighbors=5,std_ratio=1.5)\n",
    "    pcl=pcl.voxel_down_sample(voxel_size=0.02)\n",
    "    pcl.estimate_normals(search_param=o3d.geometry.KDTreeSearchParamKNN(30))\n",
    "   \n",
    "    indexes=np.arange(np.asarray(pcl.points).shape[0])\n",
    "    pt = o3d.geometry.KDTreeFlann(pcl)\n",
    "    signatures=Signature(pcl,pt,indexes)\n",
    "    Signature().v_build(signatures,NN_Criteria=\"KNN\",\n",
    "                    rad=np.std(np.asarray(pcl.points)-np.mean(np.asarray(pcl.points),axis=0))/8,\n",
    "                   NN=30)\n",
    "\n",
    "    signaturesp=remove_discontinuities_by_curvature(pcl,signatures,pt,curvature=0.4,radius=0.5)\n",
    "    pp=prune_points(signaturesp,\"sphericity\",0.5)\n",
    "    points=np.vectorize(lambda x: x.pointCoordinates,signature=\"()->(j)\")(pp)\n",
    "    pts=o3d.geometry.PointCloud()\n",
    "    pts.points=o3d.utility.Vector3dVector(points)\n",
    "\n",
    "    obb=pts.get_oriented_bounding_box()\n",
    "    dpp=copy.deepcopy(pcl)\n",
    "    dpp.rotate(obb.R)\n",
    "    pa=np.asarray(dpp.points)\n",
    "    pa[:,0]=0\n",
    "    pts.points=o3d.utility.Vector3dVector(pa)\n",
    "    return pts"
   ]
  },
  {
   "cell_type": "code",
   "execution_count": 3,
   "metadata": {},
   "outputs": [],
   "source": [
    "# Ejemplo de aplicación\n",
    "pts='A1_MODELO_3D_revA_L5x3x1_400_pulg_001.pts'\n",
    "dpf=o3d.io.read_point_cloud(\"E:\\\\INNOVATE\\\\Aceptado\\\\\"+pts)\n",
    "pts=project_pcl(dpf)\n",
    "o3d.visualization.draw_geometries([pts])"
   ]
  },
  {
   "cell_type": "code",
   "execution_count": null,
   "metadata": {},
   "outputs": [],
   "source": [
    "\n",
    "#Carga de nubes\n",
    "dp=Geometry_load(path=\"E:\\\\INNOVATE\\\\Aceptado\\\\\"+pts,\n",
    "                    visualization=True,\n",
    "                    voxel_down_sample=0.02,\n",
    "                    geometry_type=\"pointCloud\")"
   ]
  },
  {
   "cell_type": "code",
   "execution_count": 56,
   "metadata": {},
   "outputs": [
    {
     "data": {
      "text/plain": [
       "array([None, None, None, ..., None, None, None], dtype=object)"
      ]
     },
     "execution_count": 56,
     "metadata": {},
     "output_type": "execute_result"
    }
   ],
   "source": [
    "#Construcción de signatures\n",
    "indexes=np.arange(np.asarray(dp.points).shape[0])\n",
    "pt = o3d.geometry.KDTreeFlann(dp)\n",
    "signatures=Signature(dp,pt,indexes)\n",
    "Signature().v_build(signatures,NN_Criteria=\"KNN\",\n",
    "                    rad=np.std(np.asarray(dp.points)-np.mean(np.asarray(dp.points),axis=0))/8,\n",
    "                   NN=30)"
   ]
  },
  {
   "cell_type": "code",
   "execution_count": 30,
   "metadata": {},
   "outputs": [],
   "source": [
    "sig=signatures.tolist()\n",
    "sig.sort(key=lambda x: getattr(x,'sphericity'), reverse=True)"
   ]
  },
  {
   "cell_type": "code",
   "execution_count": 57,
   "metadata": {},
   "outputs": [
    {
     "name": "stdout",
     "output_type": "stream",
     "text": [
      "(1941,)\n",
      "(1542,)\n"
     ]
    }
   ],
   "source": [
    "#Filtro de discontinuidades\n",
    "signaturesp=remove_discontinuities_by_curvature(dp,signatures,pt,curvature=0.4,radius=0.5)\n",
    "print(signatures.shape)\n",
    "print(signaturesp.shape)\n",
    "graficarPropiedad(signaturesp,dp,property=\"sphericity\",frac=1)"
   ]
  },
  {
   "cell_type": "code",
   "execution_count": 32,
   "metadata": {},
   "outputs": [],
   "source": [
    "graficarPropiedad(signaturesp,dp,property=\"sphericity\",frac=0.2)"
   ]
  },
  {
   "cell_type": "code",
   "execution_count": 58,
   "metadata": {},
   "outputs": [
    {
     "name": "stdout",
     "output_type": "stream",
     "text": [
      "(1941, 3)\n",
      "Total points\n",
      "1941\n",
      "Non discontinuitinual points\n",
      "1542\n",
      "Pruned points\n",
      "76\n",
      "numero de puntos aleatorios\n",
      "7\n"
     ]
    }
   ],
   "source": [
    "#Filtro de partes planas\n",
    "print(np.asarray(dp.points).shape)\n",
    "#signaturesp=remove_discontinuities_by_curvature(dp,signatures,pt,curvature=0.4,radius=0.02)\n",
    "print(\"Total points\")\n",
    "print(len(signatures))\n",
    "print(\"Non discontinuitinual points\")\n",
    "print(len(signaturesp))\n",
    "pp=prune_points(signaturesp,\"sphericity\",0.5)\n",
    "pp=np.array(pp)\n",
    "print(\"Pruned points\")\n",
    "print(len(pp))\n",
    "rat=0.1\n",
    "ppp=random_sample(pp,rat)\n",
    "ppp=np.array(ppp)\n",
    "print(\"numero de puntos aleatorios\")\n",
    "print(len(ppp))"
   ]
  },
  {
   "cell_type": "code",
   "execution_count": 59,
   "metadata": {},
   "outputs": [],
   "source": [
    "#Estracción de puntos filtrados\n",
    "points=np.vectorize(lambda x: x.pointCoordinates,signature=\"()->(j)\")(pp)\n",
    "pts=o3d.geometry.PointCloud()\n",
    "pts.points=o3d.utility.Vector3dVector(points)\n",
    "o3d.visualization.draw_geometries([pts])"
   ]
  },
  {
   "cell_type": "code",
   "execution_count": 60,
   "metadata": {},
   "outputs": [],
   "source": [
    "#Determinación de bounding box\n",
    "obb=pts.get_oriented_bounding_box()\n",
    "mesh=o3d.geometry.TriangleMesh.create_coordinate_frame(size=80.0, origin=pts.get_center())\n",
    "mesh.rotate(obb.R)\n",
    "o3d.visualization.draw_geometries([pts,mesh])"
   ]
  },
  {
   "cell_type": "code",
   "execution_count": 36,
   "metadata": {},
   "outputs": [],
   "source": [
    "o3d.visualization.draw_geometries([dp.rotate(obb.R),mesh])"
   ]
  },
  {
   "cell_type": "code",
   "execution_count": 37,
   "metadata": {},
   "outputs": [],
   "source": [
    "#Proyección\n",
    "pa=np.asarray(dp.points)\n",
    "pa[:,1]=0\n",
    "pts.points=o3d.utility.Vector3dVector(pa)\n",
    "o3d.visualization.draw_geometries([pts])"
   ]
  },
  {
   "cell_type": "code",
   "execution_count": 39,
   "metadata": {},
   "outputs": [],
   "source": [
    "indexes=np.arange(np.asarray(dp.points).shape[0])\n",
    "pt = o3d.geometry.KDTreeFlann(dp)\n",
    "signatures=Signature(dp,pt,indexes)\n",
    "Signature().v_build(signatures,NN_Criteria=\"KNN\",\n",
    "                    rad=np.std(np.asarray(dp.points)-np.mean(np.asarray(dp.points),axis=0))/8,\n",
    "                   NN=30)\n",
    "\n",
    "signaturesp=remove_discontinuities_by_curvature(dp,signatures,pt,curvature=0.4,radius=0.5)\n",
    "pp=prune_points(signaturesp,\"sphericity\",0.5)\n",
    "points=np.vectorize(lambda x: x.pointCoordinates,signature=\"()->(j)\")(pp)\n",
    "pts=o3d.geometry.PointCloud()\n",
    "pts.points=o3d.utility.Vector3dVector(points)\n",
    "\n",
    "obb=pts.get_oriented_bounding_box()\n",
    "dpp=copy.deepcopy(dp)\n",
    "dpp.rotate(obb.R)\n",
    "pa=np.asarray(dpp.points)\n",
    "pa[:,1]=0\n",
    "pts.points=o3d.utility.Vector3dVector(pa)\n",
    "o3d.visualization.draw_geometries([pts])\n",
    "\n"
   ]
  },
  {
   "cell_type": "code",
   "execution_count": 9,
   "metadata": {},
   "outputs": [],
   "source": [
    "[trans_s,rs,KDT,query]=build_pairing_kd_tree(dp,pp,rad=100000.6,rand_samp_percentage=rat,\n",
    "                                             rigid=True,only_reflections=True,NN=80)"
   ]
  },
  {
   "cell_type": "code",
   "execution_count": 10,
   "metadata": {},
   "outputs": [],
   "source": [
    "trans_space=trans_s[:,0]\n",
    "np_points=Transformation().v_toPoint(trans_space)"
   ]
  },
  {
   "cell_type": "code",
   "execution_count": 11,
   "metadata": {},
   "outputs": [
    {
     "data": {
      "text/html": [
       "<div>\n",
       "<style scoped>\n",
       "    .dataframe tbody tr th:only-of-type {\n",
       "        vertical-align: middle;\n",
       "    }\n",
       "\n",
       "    .dataframe tbody tr th {\n",
       "        vertical-align: top;\n",
       "    }\n",
       "\n",
       "    .dataframe thead th {\n",
       "        text-align: right;\n",
       "    }\n",
       "</style>\n",
       "<table border=\"1\" class=\"dataframe\">\n",
       "  <thead>\n",
       "    <tr style=\"text-align: right;\">\n",
       "      <th></th>\n",
       "      <th>k</th>\n",
       "      <th>Rx</th>\n",
       "      <th>Ry</th>\n",
       "      <th>Rz</th>\n",
       "      <th>Tx</th>\n",
       "      <th>Ty</th>\n",
       "      <th>Tz</th>\n",
       "    </tr>\n",
       "  </thead>\n",
       "  <tbody>\n",
       "    <tr>\n",
       "      <th>0</th>\n",
       "      <td>0.01</td>\n",
       "      <td>0.011109</td>\n",
       "      <td>-0.028464</td>\n",
       "      <td>-0.316840</td>\n",
       "      <td>0.017155</td>\n",
       "      <td>-0.003001</td>\n",
       "      <td>0.000871</td>\n",
       "    </tr>\n",
       "    <tr>\n",
       "      <th>1</th>\n",
       "      <td>0.01</td>\n",
       "      <td>-0.037437</td>\n",
       "      <td>-0.085448</td>\n",
       "      <td>-0.299471</td>\n",
       "      <td>0.016810</td>\n",
       "      <td>-0.003380</td>\n",
       "      <td>-0.001137</td>\n",
       "    </tr>\n",
       "    <tr>\n",
       "      <th>2</th>\n",
       "      <td>0.01</td>\n",
       "      <td>-0.037894</td>\n",
       "      <td>0.014538</td>\n",
       "      <td>-0.006188</td>\n",
       "      <td>-0.000043</td>\n",
       "      <td>0.000204</td>\n",
       "      <td>0.000652</td>\n",
       "    </tr>\n",
       "    <tr>\n",
       "      <th>3</th>\n",
       "      <td>0.01</td>\n",
       "      <td>-0.004482</td>\n",
       "      <td>0.002634</td>\n",
       "      <td>0.314485</td>\n",
       "      <td>0.016162</td>\n",
       "      <td>-0.004671</td>\n",
       "      <td>-0.001818</td>\n",
       "    </tr>\n",
       "    <tr>\n",
       "      <th>4</th>\n",
       "      <td>0.01</td>\n",
       "      <td>-0.036677</td>\n",
       "      <td>-0.077577</td>\n",
       "      <td>-0.304256</td>\n",
       "      <td>0.016783</td>\n",
       "      <td>-0.003499</td>\n",
       "      <td>-0.001130</td>\n",
       "    </tr>\n",
       "    <tr>\n",
       "      <th>...</th>\n",
       "      <td>...</td>\n",
       "      <td>...</td>\n",
       "      <td>...</td>\n",
       "      <td>...</td>\n",
       "      <td>...</td>\n",
       "      <td>...</td>\n",
       "      <td>...</td>\n",
       "    </tr>\n",
       "    <tr>\n",
       "      <th>33491</th>\n",
       "      <td>0.01</td>\n",
       "      <td>0.000734</td>\n",
       "      <td>0.000139</td>\n",
       "      <td>-0.000009</td>\n",
       "      <td>0.015913</td>\n",
       "      <td>0.002783</td>\n",
       "      <td>-0.000181</td>\n",
       "    </tr>\n",
       "    <tr>\n",
       "      <th>33492</th>\n",
       "      <td>0.01</td>\n",
       "      <td>-0.002703</td>\n",
       "      <td>-0.000306</td>\n",
       "      <td>-0.000111</td>\n",
       "      <td>0.016814</td>\n",
       "      <td>0.002031</td>\n",
       "      <td>0.000655</td>\n",
       "    </tr>\n",
       "    <tr>\n",
       "      <th>33493</th>\n",
       "      <td>0.01</td>\n",
       "      <td>-0.024864</td>\n",
       "      <td>-0.075049</td>\n",
       "      <td>0.091619</td>\n",
       "      <td>0.004940</td>\n",
       "      <td>-0.007284</td>\n",
       "      <td>-0.004526</td>\n",
       "    </tr>\n",
       "    <tr>\n",
       "      <th>33494</th>\n",
       "      <td>0.01</td>\n",
       "      <td>-0.013408</td>\n",
       "      <td>-0.002515</td>\n",
       "      <td>-0.317813</td>\n",
       "      <td>0.015868</td>\n",
       "      <td>0.002759</td>\n",
       "      <td>-0.000211</td>\n",
       "    </tr>\n",
       "    <tr>\n",
       "      <th>33495</th>\n",
       "      <td>0.01</td>\n",
       "      <td>-0.004781</td>\n",
       "      <td>-0.009731</td>\n",
       "      <td>-0.310460</td>\n",
       "      <td>0.009471</td>\n",
       "      <td>0.001288</td>\n",
       "      <td>0.009266</td>\n",
       "    </tr>\n",
       "  </tbody>\n",
       "</table>\n",
       "<p>33496 rows × 7 columns</p>\n",
       "</div>"
      ],
      "text/plain": [
       "          k        Rx        Ry        Rz        Tx        Ty        Tz\n",
       "0      0.01  0.011109 -0.028464 -0.316840  0.017155 -0.003001  0.000871\n",
       "1      0.01 -0.037437 -0.085448 -0.299471  0.016810 -0.003380 -0.001137\n",
       "2      0.01 -0.037894  0.014538 -0.006188 -0.000043  0.000204  0.000652\n",
       "3      0.01 -0.004482  0.002634  0.314485  0.016162 -0.004671 -0.001818\n",
       "4      0.01 -0.036677 -0.077577 -0.304256  0.016783 -0.003499 -0.001130\n",
       "...     ...       ...       ...       ...       ...       ...       ...\n",
       "33491  0.01  0.000734  0.000139 -0.000009  0.015913  0.002783 -0.000181\n",
       "33492  0.01 -0.002703 -0.000306 -0.000111  0.016814  0.002031  0.000655\n",
       "33493  0.01 -0.024864 -0.075049  0.091619  0.004940 -0.007284 -0.004526\n",
       "33494  0.01 -0.013408 -0.002515 -0.317813  0.015868  0.002759 -0.000211\n",
       "33495  0.01 -0.004781 -0.009731 -0.310460  0.009471  0.001288  0.009266\n",
       "\n",
       "[33496 rows x 7 columns]"
      ]
     },
     "execution_count": 11,
     "metadata": {},
     "output_type": "execute_result"
    }
   ],
   "source": [
    "\n",
    "df = pd.DataFrame(np_points, columns = ['k','Rx','Ry','Rz','Tx','Ty','Tz'])\n",
    "df"
   ]
  },
  {
   "cell_type": "code",
   "execution_count": 12,
   "metadata": {},
   "outputs": [
    {
     "name": "stderr",
     "output_type": "stream",
     "text": [
      "C:\\Users\\grmc1\\Anaconda3\\envs\\INNOVATE\\lib\\site-packages\\seaborn\\distributions.py:2557: FutureWarning: `distplot` is a deprecated function and will be removed in a future version. Please adapt your code to use either `displot` (a figure-level function with similar flexibility) or `histplot` (an axes-level function for histograms).\n",
      "  warnings.warn(msg, FutureWarning)\n"
     ]
    },
    {
     "data": {
      "text/plain": [
       "<AxesSubplot:ylabel='Density'>"
      ]
     },
     "execution_count": 12,
     "metadata": {},
     "output_type": "execute_result"
    },
    {
     "data": {
      "image/png": "[encoded data removed]",
      "text/plain": [
       "<Figure size 432x288 with 1 Axes>"
      ]
     },
     "metadata": {
      "needs_background": "light"
     },
     "output_type": "display_data"
    }
   ],
   "source": [
    "sns.distplot(np_points[:,6], hist=True, kde=True, \n",
    "             bins=int(180/5), color = 'darkblue', \n",
    "             hist_kws={'edgecolor':'black'},\n",
    "             kde_kws={'linewidth': 4})"
   ]
  },
  {
   "cell_type": "code",
   "execution_count": 13,
   "metadata": {},
   "outputs": [
    {
     "name": "stderr",
     "output_type": "stream",
     "text": [
      "C:\\Users\\grmc1\\Anaconda3\\envs\\INNOVATE\\lib\\site-packages\\seaborn\\distributions.py:2557: FutureWarning: `distplot` is a deprecated function and will be removed in a future version. Please adapt your code to use either `displot` (a figure-level function with similar flexibility) or `histplot` (an axes-level function for histograms).\n",
      "  warnings.warn(msg, FutureWarning)\n"
     ]
    },
    {
     "data": {
      "text/plain": [
       "<AxesSubplot:ylabel='Density'>"
      ]
     },
     "execution_count": 13,
     "metadata": {},
     "output_type": "execute_result"
    },
    {
     "data": {
      "image/png": "[encoded data removed]",
      "text/plain": [
       "<Figure size 432x288 with 1 Axes>"
      ]
     },
     "metadata": {
      "needs_background": "light"
     },
     "output_type": "display_data"
    }
   ],
   "source": [
    "sns.distplot(np_points[:,1], hist=True, kde=True, \n",
    "             bins=int(180/5), color = 'darkblue', \n",
    "             hist_kws={'edgecolor':'black'},\n",
    "             kde_kws={'linewidth': 4})"
   ]
  },
  {
   "cell_type": "code",
   "execution_count": 14,
   "metadata": {},
   "outputs": [
    {
     "name": "stderr",
     "output_type": "stream",
     "text": [
      "C:\\Users\\grmc1\\Anaconda3\\envs\\INNOVATE\\lib\\site-packages\\seaborn\\distributions.py:2557: FutureWarning: `distplot` is a deprecated function and will be removed in a future version. Please adapt your code to use either `displot` (a figure-level function with similar flexibility) or `histplot` (an axes-level function for histograms).\n",
      "  warnings.warn(msg, FutureWarning)\n"
     ]
    },
    {
     "data": {
      "text/plain": [
       "<AxesSubplot:ylabel='Density'>"
      ]
     },
     "execution_count": 14,
     "metadata": {},
     "output_type": "execute_result"
    },
    {
     "data": {
      "image/png": "[encoded data removed]",
      "text/plain": [
       "<Figure size 432x288 with 1 Axes>"
      ]
     },
     "metadata": {
      "needs_background": "light"
     },
     "output_type": "display_data"
    }
   ],
   "source": [
    "sns.distplot(np_points[:,3], hist=True, kde=True, \n",
    "             bins=int(180/5), color = 'darkblue', \n",
    "             hist_kws={'edgecolor':'black'},\n",
    "             kde_kws={'linewidth': 4})"
   ]
  },
  {
   "cell_type": "code",
   "execution_count": 15,
   "metadata": {},
   "outputs": [
    {
     "name": "stderr",
     "output_type": "stream",
     "text": [
      "C:\\Users\\grmc1\\Anaconda3\\envs\\INNOVATE\\lib\\site-packages\\seaborn\\distributions.py:2557: FutureWarning: `distplot` is a deprecated function and will be removed in a future version. Please adapt your code to use either `displot` (a figure-level function with similar flexibility) or `histplot` (an axes-level function for histograms).\n",
      "  warnings.warn(msg, FutureWarning)\n"
     ]
    },
    {
     "data": {
      "image/png": "[encoded data removed]",
      "text/plain": [
       "<Figure size 432x288 with 1 Axes>"
      ]
     },
     "metadata": {
      "needs_background": "light"
     },
     "output_type": "display_data"
    }
   ],
   "source": [
    "pTrans=pruneTransPoints(trans_s=trans_s[:,0],\n",
    "                #Rx_th=0.001*math.pi/(math.pi**2),\n",
    "                #Ry_th=0.001*math.pi/(math.pi**2),\n",
    "                Rz_th_min=0*math.pi/(math.pi**2),\n",
    "                Rz_th_max=0.99*math.pi/(math.pi**2),\n",
    "                #Tz_th=0.001/(4/((diagonal_length)**2)),\n",
    "                #Ty_th=0.0001/(4/((diagonal_length)**2))\n",
    "                )\n",
    "np_points=Transformation().v_toPoint(pTrans)\n",
    "sns.distplot(np_points[:,3], hist=True, kde=True, \n",
    "             bins=int(180/5), color = 'darkblue', \n",
    "             hist_kws={'edgecolor':'black'},\n",
    "             kde_kws={'linewidth': 4})\n",
    "diagonal_length=np.linalg.norm(dp.get_max_bound()-dp.get_min_bound())\n",
    "con=np.abs(np_points[:,6])<0.002\n",
    "pTrans=pTrans[np.where(con)]\n",
    "np_points=Transformation().v_toPoint(pTrans)"
   ]
  },
  {
   "cell_type": "code",
   "execution_count": 16,
   "metadata": {},
   "outputs": [],
   "source": [
    "np_points=Transformation().v_toPoint(pTrans)"
   ]
  },
  {
   "cell_type": "code",
   "execution_count": 17,
   "metadata": {},
   "outputs": [
    {
     "name": "stderr",
     "output_type": "stream",
     "text": [
      "C:\\Users\\grmc1\\Anaconda3\\envs\\INNOVATE\\lib\\site-packages\\seaborn\\distributions.py:2557: FutureWarning: `distplot` is a deprecated function and will be removed in a future version. Please adapt your code to use either `displot` (a figure-level function with similar flexibility) or `histplot` (an axes-level function for histograms).\n",
      "  warnings.warn(msg, FutureWarning)\n"
     ]
    },
    {
     "data": {
      "text/plain": [
       "<AxesSubplot:ylabel='Density'>"
      ]
     },
     "execution_count": 17,
     "metadata": {},
     "output_type": "execute_result"
    },
    {
     "data": {
      "image/png": "[encoded data removed]",
      "text/plain": [
       "<Figure size 432x288 with 1 Axes>"
      ]
     },
     "metadata": {
      "needs_background": "light"
     },
     "output_type": "display_data"
    }
   ],
   "source": [
    "sns.distplot(np_points[:,6], hist=True, kde=True, \n",
    "             bins=int(180/5), color = 'darkblue', \n",
    "             hist_kws={'edgecolor':'black'},\n",
    "             kde_kws={'linewidth': 4})"
   ]
  },
  {
   "cell_type": "code",
   "execution_count": 18,
   "metadata": {},
   "outputs": [],
   "source": [
    "sigp=get_signatures_from_transformation(signatures,pTrans)\n",
    "points=get_cluster_points_index_from_signatures(sigp)\n",
    "points.shape\n",
    "pdp = o3d.geometry.PointCloud()\n",
    "pdp.points = o3d.utility.Vector3dVector(np.asarray(dp.points)[points])\n",
    "o3d.visualization.draw_geometries([pdp])"
   ]
  }
 ],
 "metadata": {
  "kernelspec": {
   "display_name": "Python 3",
   "language": "python",
   "name": "python3"
  },
  "language_info": {
   "codemirror_mode": {
    "name": "ipython",
    "version": 3
   },
   "file_extension": ".py",
   "mimetype": "text/x-python",
   "name": "python",
   "nbconvert_exporter": "python",
   "pygments_lexer": "ipython3",
   "version": "3.8.10"
  }
 },
 "nbformat": 4,
 "nbformat_minor": 4
}
