{
 "cells": [
  {
   "cell_type": "code",
   "execution_count": 22,
   "metadata": {},
   "outputs": [
    {
     "name": "stderr",
     "output_type": "stream",
     "text": [
      "C:\\Users\\grmc1\\Anaconda3\\envs\\INNOVATE\\lib\\site-packages\\numpy\\_distributor_init.py:30: UserWarning: loaded more than 1 DLL from .libs:\n",
      "C:\\Users\\grmc1\\Anaconda3\\envs\\INNOVATE\\lib\\site-packages\\numpy\\.libs\\libopenblas.JPIJNSWNNAN3CE6LLI5FWSPHUT2VXMTH.gfortran-win_amd64.dll\n",
      "C:\\Users\\grmc1\\Anaconda3\\envs\\INNOVATE\\lib\\site-packages\\numpy\\.libs\\libopenblas.NOIJJG62EMASZI6NYURL6JBKM4EVBGM7.gfortran-win_amd64.dll\n",
      "  warnings.warn(\"loaded more than 1 DLL from .libs:\"\n"
     ]
    }
   ],
   "source": [
    "import numpy as np"
   ]
  },
  {
   "cell_type": "code",
   "execution_count": 46,
   "metadata": {},
   "outputs": [
    {
     "name": "stdout",
     "output_type": "stream",
     "text": [
      "proyectName\n",
      "D:\\Documentos\\INNOVATE\\GH\\proyectox\\Generación\\DataIn\\proyectName.iges\n"
     ]
    }
   ],
   "source": [
    "path=\"D:\\Documentos\\INNOVATE\\GH\\proyectox\\Generación\\DataIn\\proyectName_Detected.txt\"\n",
    "Name=path.split('\\\\')[-1].split('_')[0]\n",
    "print(Name)\n",
    "Dest=path.split('\\\\')[:-1]\n",
    "Dest='\\\\'.join(Dest)+'\\\\'+Name+'.iges'\n",
    "print(Dest)"
   ]
  },
  {
   "cell_type": "code",
   "execution_count": 33,
   "metadata": {},
   "outputs": [],
   "source": [
    "txt=open(path)\n",
    "Tubes=txt.readlines()"
   ]
  },
  {
   "cell_type": "code",
   "execution_count": 34,
   "metadata": {},
   "outputs": [
    {
     "name": "stdout",
     "output_type": "stream",
     "text": [
      "[['0', '0', '1', '20', '13', '15', '45', '1', '30'], ['1', '0', '1', '25', '18', '15', '45', '1', '40'], ['1', '5', '1', '45', '18', '15', '45', '50', '20']]\n"
     ]
    }
   ],
   "source": [
    "Tubes=[i.split('\\n')[0].split(' ') for i in Tubes]\n",
    "Tubes=np.asarray(Tubess,dtype=np.float64)"
   ]
  },
  {
   "cell_type": "code",
   "execution_count": 40,
   "metadata": {},
   "outputs": [],
   "source": [
    "a=['a','n','as']"
   ]
  },
  {
   "cell_type": "code",
   "execution_count": 43,
   "metadata": {},
   "outputs": [
    {
     "data": {
      "text/plain": [
       "['a', 'n']"
      ]
     },
     "execution_count": 43,
     "metadata": {},
     "output_type": "execute_result"
    }
   ],
   "source": [
    "a[:-1]"
   ]
  }
 ],
 "metadata": {
  "kernelspec": {
   "display_name": "Python 3",
   "language": "python",
   "name": "python3"
  },
  "language_info": {
   "codemirror_mode": {
    "name": "ipython",
    "version": 3
   },
   "file_extension": ".py",
   "mimetype": "text/x-python",
   "name": "python",
   "nbconvert_exporter": "python",
   "pygments_lexer": "ipython3",
   "version": "3.9.0"
  }
 },
 "nbformat": 4,
 "nbformat_minor": 4
}
