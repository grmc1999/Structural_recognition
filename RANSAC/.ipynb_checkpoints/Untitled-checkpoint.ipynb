{
 "cells": [
  {
   "cell_type": "code",
   "execution_count": 16,
   "metadata": {},
   "outputs": [],
   "source": [
    "import open3d as o3d\n",
    "import numpy as np\n",
    "import os\n",
    "import copy"
   ]
  },
  {
   "cell_type": "code",
   "execution_count": 5,
   "metadata": {},
   "outputs": [],
   "source": [
    "def pcd_templates(temp_path,body_name):\n",
    "    geo=temp_pipe_path+\"\\\\\"+body_name\n",
    "    temp_stl=o3d.io.read_triangle_mesh(geo)\n",
    "    temp_pcd=temp_stl.sample_points_uniformly(number_of_points=int(temp_stl.get_surface_area()*0.1))\n",
    "    temp_pcd.points = o3d.utility.Vector3dVector(np.asarray(temp_pcd.points)-temp_pcd.get_center())\n",
    "    return temp_pcd\n",
    "\n",
    "def get_profile(pcd):\n",
    "    obb=pcd.get_oriented_bounding_box()\n",
    "    pp=np.asarray(obb.get_box_points())\n",
    "    ND=np.sort(np.linalg.norm(pp-pp[0],axis=1))[-4]\n",
    "    NV=(pp-pp[0])[np.where(np.linalg.norm(pp-pp[0],axis=1)==ND)]\n",
    "    nV=NV/np.linalg.norm(NV)\n",
    "    PP=np.sort(np.linalg.norm(pp-pp[0],axis=1))[:4]\n",
    "    PP=(pp)[np.where(np.sum(np.linalg.norm(pp-pp[0],axis=1)==PP.reshape(-1,1),axis=0).astype(bool))]\n",
    "    P1=PP+nV*5\n",
    "    P2=PP+nV*25\n",
    "    vobb=o3d.geometry.OrientedBoundingBox.create_from_points(o3d.utility.Vector3dVector(np.vstack((P1,P2))))\n",
    "    prof=pcd.crop(vobb)\n",
    "    prof.points = o3d.utility.Vector3dVector(np.asarray(prof.points)-prof.get_center())\n",
    "    return prof,nV\n",
    "\n",
    "v_pcd_templates=np.vectorize(pcd_templates,signature='(),()->()')\n",
    "v_get_profile=np.vectorize(get_profile,signature='()->(),(k)')\n",
    "\n",
    "def get_length(tar_pcd):\n",
    "    obb=tar_pcd.get_oriented_bounding_box()\n",
    "    pp=np.asarray(obb.get_box_points())\n",
    "    return np.sort(np.linalg.norm(pp-pp[0],axis=1))[-4]\n",
    "\n",
    "def gen_temp(prof,nV,tar_pcd):\n",
    "    L=get_length(tar_pcd)\n",
    "    transd=(np.arange(0,int(L/20))*20).reshape(1,-1).T*nV\n",
    "    transtemps=np.vectorize(pyfunc=(lambda x: (np.asarray(prof.points)+x)),\n",
    "                        signature=\"(k)->(j,k)\")(transd).reshape(-1,3)\n",
    "    temppcd = o3d.geometry.PointCloud()\n",
    "    temppcd.points = o3d.utility.Vector3dVector(transtemps-np.mean(transtemps,axis=0))\n",
    "    return temppcd\n",
    "\n",
    "v_gen_temp=np.vectorize(gen_temp,signature='(),(k),()->()')"
   ]
  },
  {
   "cell_type": "code",
   "execution_count": 6,
   "metadata": {},
   "outputs": [],
   "source": [
    "#Carga de templates\n",
    "temppath=\"D:\\Documentos\\INNOVATE\\GH\\proyectox\\RANSAC\\Templates\"\n",
    "temp_pipe_path=temppath+\"\\Pipes\"\n",
    "temp_beams_path=temppath+\"\\Beams\"\n",
    "names=np.array(os.listdir(temp_pipe_path))\n",
    "templates=v_pcd_templates(temp_pipe_path,names)\n",
    "cpcds,nVs=v_get_profile(templates)"
   ]
  },
  {
   "cell_type": "code",
   "execution_count": 7,
   "metadata": {},
   "outputs": [
    {
     "name": "stdout",
     "output_type": "stream",
     "text": [
      "2398.569637482869\n"
     ]
    }
   ],
   "source": [
    "#carga de Base de datos\n",
    "temppath=\"D:\\Documentos\\INNOVATE\\Base_de_datos\\Aceptado\"\n",
    "names=np.array(os.listdir(temppath))\n",
    "tar_pcd_dir=temppath+\"\\\\\"+names[4]\n",
    "tar_pcd=o3d.io.read_point_cloud(tar_pcd_dir)\n",
    "tar_pcd.points=o3d.utility.Vector3dVector(np.asarray(tar_pcd.points)-tar_pcd.get_center())\n",
    "\n",
    "print(get_length(tar_pcd))\n",
    "o3d.visualization.draw_geometries([tar_pcd,gen_temp(cpcds[4],nVs[4],tar_pcd)])"
   ]
  },
  {
   "cell_type": "code",
   "execution_count": 8,
   "metadata": {},
   "outputs": [],
   "source": [
    "pcd_temp=v_gen_temp(cpcds,nVs,tar_pcd)"
   ]
  },
  {
   "cell_type": "code",
   "execution_count": 9,
   "metadata": {},
   "outputs": [],
   "source": [
    "o3d.visualization.draw_geometries([pcd_temp[0],pcd_temp[1],pcd_temp[5]])"
   ]
  },
  {
   "cell_type": "code",
   "execution_count": 14,
   "metadata": {},
   "outputs": [],
   "source": [
    "def preprocess_point_cloud(pcd, voxel_size):\n",
    "    print(\":: Downsample with a voxel size %.3f.\" % voxel_size)\n",
    "    pcd_down = pcd.voxel_down_sample(voxel_size)\n",
    "\n",
    "    radius_normal = voxel_size * 2\n",
    "    print(\":: Estimate normal with search radius %.3f.\" % radius_normal)\n",
    "    pcd_down.estimate_normals(\n",
    "        o3d.geometry.KDTreeSearchParamHybrid(radius=radius_normal, max_nn=30))\n",
    "\n",
    "    radius_feature = voxel_size * 5\n",
    "    print(\":: Compute FPFH feature with search radius %.3f.\" % radius_feature)\n",
    "    pcd_fpfh = o3d.pipelines.registration.compute_fpfh_feature(\n",
    "        pcd_down,\n",
    "        o3d.geometry.KDTreeSearchParamHybrid(radius=radius_feature, max_nn=100))\n",
    "    return pcd_down, pcd_fpfh\n",
    "\n",
    "def draw_registration_result(source, target, transformation):\n",
    "    source_temp = copy.deepcopy(source)\n",
    "    target_temp = copy.deepcopy(target)\n",
    "    source_temp.paint_uniform_color([1, 0.706, 0])\n",
    "    target_temp.paint_uniform_color([0, 0.651, 0.929])\n",
    "    source_temp.transform(transformation)\n",
    "    o3d.visualization.draw_geometries([source_temp, target_temp],\n",
    "                                      zoom=0.4559,\n",
    "                                      front=[0.6452, -0.3036, -0.7011],\n",
    "                                      lookat=[1.9892, 2.0208, 1.8945],\n",
    "                                      up=[-0.2779, -0.9482, 0.1556])\n",
    "\n",
    "def prepare_dataset(voxel_size,source,target):\n",
    "    print(\":: Load two point clouds and disturb initial pose.\")\n",
    "    trans_init = np.asarray([[0.0, 0.0, 1.0, 0.0], [1.0, 0.0, 0.0, 0.0],\n",
    "                             [0.0, 1.0, 0.0, 0.0], [0.0, 0.0, 0.0, 1.0]])\n",
    "    source.transform(trans_init)\n",
    "    draw_registration_result(source, target, np.identity(4))\n",
    "\n",
    "    source_down, source_fpfh = preprocess_point_cloud(source, voxel_size)\n",
    "    target_down, target_fpfh = preprocess_point_cloud(target, voxel_size)\n",
    "    return source_down, target_down, source_fpfh, target_fpfh\n",
    "\n",
    "def execute_global_registration(source_down, target_down, source_fpfh,\n",
    "                                target_fpfh, voxel_size):\n",
    "    distance_threshold = voxel_size * 1.5\n",
    "    print(\":: RANSAC registration on downsampled point clouds.\")\n",
    "    print(\"   Since the downsampling voxel size is %.3f,\" % voxel_size)\n",
    "    print(\"   we use a liberal distance threshold %.3f.\" % distance_threshold)\n",
    "    result = o3d.pipelines.registration.registration_ransac_based_on_feature_matching(\n",
    "        source_down,\n",
    "        target_down,\n",
    "        source_fpfh,\n",
    "        target_fpfh,\n",
    "        True,\n",
    "        distance_threshold,\n",
    "        o3d.pipelines.registration.TransformationEstimationPointToPoint(False),\n",
    "        3,\n",
    "        [\n",
    "            o3d.pipelines.registration.CorrespondenceCheckerBasedOnEdgeLength(\n",
    "                0.9),\n",
    "            o3d.pipelines.registration.CorrespondenceCheckerBasedOnDistance(\n",
    "                distance_threshold)\n",
    "        ],\n",
    "        o3d.pipelines.registration.RANSACConvergenceCriteria(100000, 0.999))\n",
    "    return result"
   ]
  },
  {
   "cell_type": "code",
   "execution_count": 19,
   "metadata": {},
   "outputs": [
    {
     "name": "stdout",
     "output_type": "stream",
     "text": [
      ":: Load two point clouds and disturb initial pose.\n",
      ":: Downsample with a voxel size 0.050.\n",
      ":: Estimate normal with search radius 0.100.\n",
      ":: Compute FPFH feature with search radius 0.250.\n",
      ":: Downsample with a voxel size 0.050.\n",
      ":: Estimate normal with search radius 0.100.\n",
      ":: Compute FPFH feature with search radius 0.250.\n"
     ]
    }
   ],
   "source": [
    "source_down, target_down, source_fpfh, target_fpfh=prepare_dataset(0.05,pcd_temp[0],tar_pcd)"
   ]
  },
  {
   "cell_type": "code",
   "execution_count": null,
   "metadata": {},
   "outputs": [],
   "source": [
    "result_ransac = execute_global_registration(source_down, target_down, source_fpfh,\n",
    "                                target_fpfh, 0.05)"
   ]
  }
 ],
 "metadata": {
  "kernelspec": {
   "display_name": "Python 3",
   "language": "python",
   "name": "python3"
  },
  "language_info": {
   "codemirror_mode": {
    "name": "ipython",
    "version": 3
   },
   "file_extension": ".py",
   "mimetype": "text/x-python",
   "name": "python",
   "nbconvert_exporter": "python",
   "pygments_lexer": "ipython3",
   "version": "3.9.0"
  }
 },
 "nbformat": 4,
 "nbformat_minor": 4
}
