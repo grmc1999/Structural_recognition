{
 "cells": [
  {
   "cell_type": "code",
   "execution_count": 1,
   "metadata": {},
   "outputs": [
    {
     "name": "stderr",
     "output_type": "stream",
     "text": [
      "C:\\Users\\grmc1\\Anaconda3\\envs\\INNOVATE\\lib\\site-packages\\numpy\\_distributor_init.py:30: UserWarning: loaded more than 1 DLL from .libs:\n",
      "C:\\Users\\grmc1\\Anaconda3\\envs\\INNOVATE\\lib\\site-packages\\numpy\\.libs\\libopenblas.JPIJNSWNNAN3CE6LLI5FWSPHUT2VXMTH.gfortran-win_amd64.dll\n",
      "C:\\Users\\grmc1\\Anaconda3\\envs\\INNOVATE\\lib\\site-packages\\numpy\\.libs\\libopenblas.NOIJJG62EMASZI6NYURL6JBKM4EVBGM7.gfortran-win_amd64.dll\n",
      "  warnings.warn(\"loaded more than 1 DLL from .libs:\"\n"
     ]
    }
   ],
   "source": [
    "import open3d as o3d\n",
    "import numpy as np\n",
    "import math"
   ]
  },
  {
   "cell_type": "code",
   "execution_count": 2,
   "metadata": {},
   "outputs": [],
   "source": [
    "from transformation import Transformation\n",
    "from Signatures import Signature\n",
    "from Utilities import *"
   ]
  },
  {
   "cell_type": "code",
   "execution_count": 3,
   "metadata": {},
   "outputs": [],
   "source": [
    "p=o3d.io.read_point_cloud('D:\\Documentos\\INNOVATE\\Base_de_datos\\Recortes\\LINEA__40_2_pulg_002.pts')\n",
    "#o3d.visualization.draw_geometries([dp],point_show_normal=False)\n",
    "dp=p.voxel_down_sample(voxel_size=0.007)\n",
    "dp=p\n",
    "dp.estimate_normals(search_param=o3d.geometry.KDTreeSearchParamHybrid(radius=0.1, max_nn=30))\n",
    "\n",
    "o3d.visualization.draw_geometries([dp],point_show_normal=False)\n"
   ]
  },
  {
   "cell_type": "code",
   "execution_count": 4,
   "metadata": {},
   "outputs": [
    {
     "name": "stdout",
     "output_type": "stream",
     "text": [
      "Showing outliers (red) and inliers (gray): \n"
     ]
    }
   ],
   "source": [
    "def display_inlier_outlier(cloud, ind):\n",
    "    inlier_cloud = cloud.select_by_index(ind)\n",
    "    outlier_cloud = cloud.select_by_index(ind, invert=True)\n",
    "\n",
    "    print(\"Showing outliers (red) and inliers (gray): \")\n",
    "    outlier_cloud.paint_uniform_color([1, 0, 0])\n",
    "    inlier_cloud.paint_uniform_color([0.8, 0.8, 0.8])\n",
    "    o3d.visualization.draw_geometries([inlier_cloud, outlier_cloud])\n",
    "cl, ind = dp.remove_statistical_outlier(nb_neighbors=5,std_ratio=1.5)\n",
    "display_inlier_outlier(dp, ind)\n",
    "dp=cl\n",
    "dp=dp.voxel_down_sample(voxel_size=0.007)\n",
    "dp.estimate_normals(search_param=o3d.geometry.KDTreeSearchParamHybrid(radius=0.1, max_nn=30))\n",
    "o3d.visualization.draw_geometries([dp])"
   ]
  },
  {
   "cell_type": "code",
   "execution_count": 5,
   "metadata": {},
   "outputs": [],
   "source": [
    "def upSampM1(pointcloud,KDT,NN,NNi=-1):\n",
    "    points=np.asarray(pointcloud.points)\n",
    "    P=random.randint(0,len(points)-1)\n",
    "    point=pointcloud.points[P]\n",
    "    [k, idx, q] = pt.search_knn_vector_3d(point,NN)\n",
    "    zp=np.asarray(dp.points)[idx[:], :]\n",
    "    npo=(zp[0,:]+zp[NNi,:])/2\n",
    "    return npo\n",
    "\n",
    "def upSampM2(pointcloud,KDT,NN,NNi=-1):\n",
    "    points=np.asarray(pointcloud.points)\n",
    "    P=random.randint(0,len(points)-1)\n",
    "    point=pointcloud.points[P]\n",
    "    [k, idx, q] = pt.search_knn_vector_3d(point,NN)\n",
    "    zp=np.asarray(dp.points)[idx[:], :]\n",
    "    p1=zp[0,:]\n",
    "    p2=zp[NNi,:]\n",
    "    d=np.linalg.norm(p1-p2)\n",
    "    x=math.sqrt(d**2-(d/2)**2)\n",
    "    pdp1=getPrincipalDir(dp,dp.points[P],pt,20)\n",
    "    n1=pdp1[0][1]\n",
    "    p12=p2-p1\n",
    "    px=np.cross(p12,n1)\n",
    "    px=px/(np.linalg.norm(px))\n",
    "    p3=(p1+p2)/2+px*x\n",
    "    return p3\n",
    "\n",
    "def upsamplingM1(pointcloud,KDT,r,N):\n",
    "    npts=np.empty((1,3))\n",
    "    for i in range(N):\n",
    "        p=upSampM1(pointcloud,KDT,r)\n",
    "        npts=np.concatenate((npts,p.reshape(1,3)),axis=0)\n",
    "    pointss=np.asarray(dp.points)\n",
    "    pointss=np.concatenate((pointss,npts),axis=0)\n",
    "    return pointss\n",
    "\n",
    "def upsamplingM2(pointcloud,KDT,r,N):\n",
    "    npts=np.empty((1,3))\n",
    "    for i in range(N):\n",
    "        p=upSampM2(pointcloud,KDT,r)\n",
    "        npts=np.concatenate((npts,p.reshape(1,3)),axis=0)\n",
    "    pointss=np.asarray(dp.points)\n",
    "    pointss=np.concatenate((pointss,npts),axis=0)\n",
    "    return pointss\n",
    "\n",
    "def findIndex(pointarray,point_position):\n",
    "    a=np.where(pointarray==point_position)\n",
    "    return a[0][0]"
   ]
  },
  {
   "cell_type": "code",
   "execution_count": 5,
   "metadata": {},
   "outputs": [
    {
     "ename": "NameError",
     "evalue": "name 'r' is not defined",
     "output_type": "error",
     "traceback": [
      "\u001b[1;31m---------------------------------------------------------------------------\u001b[0m",
      "\u001b[1;31mNameError\u001b[0m                                 Traceback (most recent call last)",
      "\u001b[1;32m<ipython-input-5-f46800896996>\u001b[0m in \u001b[0;36m<module>\u001b[1;34m\u001b[0m\n\u001b[0;32m      8\u001b[0m \u001b[0mp2\u001b[0m\u001b[1;33m=\u001b[0m\u001b[0mzp\u001b[0m\u001b[1;33m[\u001b[0m\u001b[1;33m-\u001b[0m\u001b[1;36m1\u001b[0m\u001b[1;33m,\u001b[0m\u001b[1;33m:\u001b[0m\u001b[1;33m]\u001b[0m\u001b[1;33m\u001b[0m\u001b[1;33m\u001b[0m\u001b[0m\n\u001b[0;32m      9\u001b[0m \u001b[0md\u001b[0m\u001b[1;33m=\u001b[0m\u001b[0mnp\u001b[0m\u001b[1;33m.\u001b[0m\u001b[0mlinalg\u001b[0m\u001b[1;33m.\u001b[0m\u001b[0mnorm\u001b[0m\u001b[1;33m(\u001b[0m\u001b[0mp1\u001b[0m\u001b[1;33m-\u001b[0m\u001b[0mp2\u001b[0m\u001b[1;33m)\u001b[0m\u001b[1;33m\u001b[0m\u001b[1;33m\u001b[0m\u001b[0m\n\u001b[1;32m---> 10\u001b[1;33m \u001b[0mx\u001b[0m\u001b[1;33m=\u001b[0m\u001b[0mmath\u001b[0m\u001b[1;33m.\u001b[0m\u001b[0msqrt\u001b[0m\u001b[1;33m(\u001b[0m\u001b[0mr\u001b[0m\u001b[1;33m**\u001b[0m\u001b[1;36m2\u001b[0m\u001b[1;33m-\u001b[0m\u001b[1;33m(\u001b[0m\u001b[0md\u001b[0m\u001b[1;33m/\u001b[0m\u001b[1;36m2\u001b[0m\u001b[1;33m)\u001b[0m\u001b[1;33m**\u001b[0m\u001b[1;36m2\u001b[0m\u001b[1;33m)\u001b[0m\u001b[1;33m\u001b[0m\u001b[1;33m\u001b[0m\u001b[0m\n\u001b[0m\u001b[0;32m     11\u001b[0m \u001b[0mpdp1\u001b[0m\u001b[1;33m=\u001b[0m\u001b[0mgetPrincipalDir\u001b[0m\u001b[1;33m(\u001b[0m\u001b[0mdp\u001b[0m\u001b[1;33m,\u001b[0m\u001b[0mdp\u001b[0m\u001b[1;33m.\u001b[0m\u001b[0mpoints\u001b[0m\u001b[1;33m[\u001b[0m\u001b[0mP\u001b[0m\u001b[1;33m]\u001b[0m\u001b[1;33m,\u001b[0m\u001b[0mpt\u001b[0m\u001b[1;33m,\u001b[0m\u001b[1;36m20\u001b[0m\u001b[1;33m)\u001b[0m\u001b[1;33m\u001b[0m\u001b[1;33m\u001b[0m\u001b[0m\n\u001b[0;32m     12\u001b[0m \u001b[0mn1\u001b[0m\u001b[1;33m=\u001b[0m\u001b[0mpdp1\u001b[0m\u001b[1;33m[\u001b[0m\u001b[1;36m0\u001b[0m\u001b[1;33m]\u001b[0m\u001b[1;33m[\u001b[0m\u001b[1;36m1\u001b[0m\u001b[1;33m]\u001b[0m\u001b[1;33m\u001b[0m\u001b[1;33m\u001b[0m\u001b[0m\n",
      "\u001b[1;31mNameError\u001b[0m: name 'r' is not defined"
     ]
    }
   ],
   "source": [
    "P=3\n",
    "NN=10\n",
    "point=dp.points[P]\n",
    "pt = o3d.geometry.KDTreeFlann(dp)\n",
    "[k, idx, q] = pt.search_knn_vector_3d(point, NN)\n",
    "zp=np.asarray(dp.points)[idx[:], :]\n",
    "p1=zp[0,:]\n",
    "p2=zp[-1,:]\n",
    "d=np.linalg.norm(p1-p2)\n",
    "x=math.sqrt(r**2-(d/2)**2)\n",
    "pdp1=getPrincipalDir(dp,dp.points[P],pt,20)\n",
    "n1=pdp1[0][1]\n",
    "p12=p2-p1\n",
    "px=np.cross(p12,n1)\n",
    "px=px/(np.linalg.norm(px))\n",
    "p3=(p1+p2)/2+px*x\n",
    "[k, idx, q] = pt.search_knn_vector_3d(point, NN+3)\n",
    "zp=np.asarray(dp.points)[idx[:], :]\n",
    "zpp=zp-p3\n",
    "\n",
    "zpn=np.linalg.norm(zpp,axis=1)\n",
    "np.min(zpn)\n",
    "a=np.where(zpn==np.min(zpn))\n",
    "p3=zp[a[0][0]]\n",
    "p23=p2-p3\n",
    "p13=p1-p3\n",
    "px=np.cross(p13,p23)\n",
    "px=px/(np.linalg.norm(px))\n",
    "p4=(p1+p2+p3)/3\n",
    "p1i=findIndex(np.asarray(dp.points),p1)\n",
    "p2i=findIndex(np.asarray(dp.points),p2)\n",
    "p3i=findIndex(np.asarray(dp.points),p3)\n",
    "\n",
    "pdp1=getPrincipalDir(dp,dp.points[p1i],pt,20)[0][1]\n",
    "pdp2=getPrincipalDir(dp,dp.points[p2i],pt,20)[0][1]\n",
    "pdp3=getPrincipalDir(dp,dp.points[p3i],pt,20)[0][1]\n",
    "pdp4=pdp1+pdp2+pdp3\n",
    "pdp4=pdp4/(np.linalg.norm(pdp4))\n",
    "\n",
    "pointss=np.concatenate((np.asarray(dp.points),p4.reshape(1,3)),axis=0)\n",
    "evalpcd=o3d.geometry.PointCloud()\n",
    "evalpcd.points = o3d.utility.Vector3dVector(pointss)\n",
    "evalpcd.estimate_normals()\n",
    "estimated_normal=getPrincipalDir(evalpcd,evalpcd.points[-1],pt,20)[0][1]\n",
    "\n"
   ]
  },
  {
   "cell_type": "code",
   "execution_count": 6,
   "metadata": {},
   "outputs": [
    {
     "ename": "NameError",
     "evalue": "name 'evalpcd' is not defined",
     "output_type": "error",
     "traceback": [
      "\u001b[1;31m---------------------------------------------------------------------------\u001b[0m",
      "\u001b[1;31mNameError\u001b[0m                                 Traceback (most recent call last)",
      "\u001b[1;32m<ipython-input-6-09820b554902>\u001b[0m in \u001b[0;36m<module>\u001b[1;34m\u001b[0m\n\u001b[1;32m----> 1\u001b[1;33m \u001b[0mestimated_normal\u001b[0m\u001b[1;33m=\u001b[0m\u001b[0mgetPrincipalDir\u001b[0m\u001b[1;33m(\u001b[0m\u001b[0mevalpcd\u001b[0m\u001b[1;33m,\u001b[0m\u001b[0mevalpcd\u001b[0m\u001b[1;33m.\u001b[0m\u001b[0mpoints\u001b[0m\u001b[1;33m[\u001b[0m\u001b[1;33m-\u001b[0m\u001b[1;36m1\u001b[0m\u001b[1;33m]\u001b[0m\u001b[1;33m,\u001b[0m\u001b[0mpt\u001b[0m\u001b[1;33m,\u001b[0m\u001b[1;36m20\u001b[0m\u001b[1;33m)\u001b[0m\u001b[1;33m[\u001b[0m\u001b[1;36m0\u001b[0m\u001b[1;33m]\u001b[0m\u001b[1;33m[\u001b[0m\u001b[1;36m1\u001b[0m\u001b[1;33m]\u001b[0m\u001b[1;33m\u001b[0m\u001b[1;33m\u001b[0m\u001b[0m\n\u001b[0m",
      "\u001b[1;31mNameError\u001b[0m: name 'evalpcd' is not defined"
     ]
    }
   ],
   "source": [
    "estimated_normal=getPrincipalDir(evalpcd,evalpcd.points[-1],pt,20)[0][1]"
   ]
  },
  {
   "cell_type": "code",
   "execution_count": 7,
   "metadata": {},
   "outputs": [
    {
     "ename": "NameError",
     "evalue": "name 'pdp1' is not defined",
     "output_type": "error",
     "traceback": [
      "\u001b[1;31m---------------------------------------------------------------------------\u001b[0m",
      "\u001b[1;31mNameError\u001b[0m                                 Traceback (most recent call last)",
      "\u001b[1;32m<ipython-input-7-ec7d06ce7592>\u001b[0m in \u001b[0;36m<module>\u001b[1;34m\u001b[0m\n\u001b[1;32m----> 1\u001b[1;33m \u001b[0mprint\u001b[0m\u001b[1;33m(\u001b[0m\u001b[0mpdp1\u001b[0m\u001b[1;33m)\u001b[0m\u001b[1;33m\u001b[0m\u001b[1;33m\u001b[0m\u001b[0m\n\u001b[0m\u001b[0;32m      2\u001b[0m \u001b[0mprint\u001b[0m\u001b[1;33m(\u001b[0m\u001b[0mpdp2\u001b[0m\u001b[1;33m)\u001b[0m\u001b[1;33m\u001b[0m\u001b[1;33m\u001b[0m\u001b[0m\n\u001b[0;32m      3\u001b[0m \u001b[0mprint\u001b[0m\u001b[1;33m(\u001b[0m\u001b[0mpdp3\u001b[0m\u001b[1;33m)\u001b[0m\u001b[1;33m\u001b[0m\u001b[1;33m\u001b[0m\u001b[0m\n\u001b[0;32m      4\u001b[0m \u001b[0mprint\u001b[0m\u001b[1;33m(\u001b[0m\u001b[0mpdp4\u001b[0m\u001b[1;33m)\u001b[0m\u001b[1;33m\u001b[0m\u001b[1;33m\u001b[0m\u001b[0m\n\u001b[0;32m      5\u001b[0m \u001b[0mprint\u001b[0m\u001b[1;33m(\u001b[0m\u001b[0mestimated_normal\u001b[0m\u001b[1;33m)\u001b[0m\u001b[1;33m\u001b[0m\u001b[1;33m\u001b[0m\u001b[0m\n",
      "\u001b[1;31mNameError\u001b[0m: name 'pdp1' is not defined"
     ]
    }
   ],
   "source": [
    "print(pdp1)\n",
    "print(pdp2)\n",
    "print(pdp3)\n",
    "print(pdp4)\n",
    "print(estimated_normal)"
   ]
  },
  {
   "cell_type": "code",
   "execution_count": 46,
   "metadata": {},
   "outputs": [],
   "source": [
    "pt = o3d.geometry.KDTreeFlann(dp)\n",
    "gpoints=upsamplingM2(dp,pt,4,500)\n",
    "#Disminuir el numero NN\n",
    "#Añadir limite de distancia mas cercano"
   ]
  },
  {
   "cell_type": "code",
   "execution_count": 47,
   "metadata": {},
   "outputs": [
    {
     "name": "stdout",
     "output_type": "stream",
     "text": [
      "(1504, 3)\n",
      "[Open3D WARNING] [ViewControl] SetViewPoint() failed because window height and width are not set.\n"
     ]
    }
   ],
   "source": [
    "print(gpoints.shape)\n",
    "npcld=o3d.geometry.PointCloud()\n",
    "npcld.points = o3d.utility.Vector3dVector(gpoints)\n",
    "ao=np.ones((1004,3))*0.8\n",
    "aa=np.ones((500,3))*0.2\n",
    "colorss=np.concatenate((ao,aa),axis=0)\n",
    "npcld.colors = o3d.utility.Vector3dVector(colorss)\n",
    "o3d.visualization.draw_geometries([npcld],point_show_normal=False)\n"
   ]
  },
  {
   "cell_type": "code",
   "execution_count": 13,
   "metadata": {},
   "outputs": [],
   "source": [
    "ogpts=gpoints[1024:]\n",
    "npcld=o3d.geometry.PointCloud()\n",
    "npcld.points = o3d.utility.Vector3dVector(ogpts)\n",
    "o3d.visualization.draw_geometries([npcld],point_show_normal=False)"
   ]
  },
  {
   "cell_type": "code",
   "execution_count": 39,
   "metadata": {},
   "outputs": [
    {
     "name": "stdout",
     "output_type": "stream",
     "text": [
      "(1014, 3)\n",
      "(1224, 3)\n"
     ]
    }
   ],
   "source": [
    "print(np.asarray(npcld.points).shape)\n",
    "print(colorss.shape)\n"
   ]
  }
 ],
 "metadata": {
  "kernelspec": {
   "display_name": "Python 3",
   "language": "python",
   "name": "python3"
  },
  "language_info": {
   "codemirror_mode": {
    "name": "ipython",
    "version": 3
   },
   "file_extension": ".py",
   "mimetype": "text/x-python",
   "name": "python",
   "nbconvert_exporter": "python",
   "pygments_lexer": "ipython3",
   "version": "3.9.0"
  }
 },
 "nbformat": 4,
 "nbformat_minor": 4
}
