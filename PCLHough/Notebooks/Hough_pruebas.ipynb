{
 "cells": [
  {
   "cell_type": "code",
   "execution_count": 1,
   "metadata": {},
   "outputs": [],
   "source": [
    "import sys\n",
    "import os\n",
    "import pathlib\n",
    "#sys.path.append('D:\\\\Documentos\\\\INNOVATE\\lib\\\\FreeCAD\\\\bin')\n",
    "pth=str(pathlib.Path().absolute())\n",
    "general_repo=\"\\\\\".join(pth.split('\\\\')[:5])\n",
    "simetries_path=general_repo+\"\\\\Simetrias\\\\Utils\"\n",
    "\n",
    "sys.path.append(simetries_path)\n",
    "\n",
    "data_base_path=\"\\\\\".join(pth.split('\\\\')[:3])+\"\\\\Base_de_datos\\\\BEAMS\\\\Aceptado\"\n",
    "\n",
    "Hough_path=general_repo+\"\\\\PCLHough\"\n",
    "\n",
    "sys.path.append(Hough_path)\n",
    "\n",
    "import open3d as o3d\n",
    "from Utilities import *\n",
    "from MF import *\n",
    "from hough3dlines import *"
   ]
  },
  {
   "cell_type": "code",
   "execution_count": null,
   "metadata": {},
   "outputs": [],
   "source": []
  },
  {
   "cell_type": "code",
   "execution_count": 2,
   "metadata": {},
   "outputs": [
    {
     "data": {
      "text/plain": [
       "[[7.0, 5.0, -2.0],\n",
       " [-0.20739033894608505, -0.5184758473652127, -0.8295613557843402]]"
      ]
     },
     "execution_count": 2,
     "metadata": {},
     "output_type": "execute_result"
    }
   ],
   "source": [
    "a=np.random.randint(-10,10,(1,3))\n",
    "b=np.random.randint(-10,10,(1,3))\n",
    "b=b/np.linalg.norm(b)\n",
    "pp=np.vstack((a,b))\n",
    "pp\n",
    "list(np.vectorize(lambda x:list(x),otypes=[object],signature=\"(j)->()\")(pp))"
   ]
  },
  {
   "cell_type": "code",
   "execution_count": 24,
   "metadata": {},
   "outputs": [],
   "source": [
    "def draw_line(a,b,L=100):\n",
    "    p1=a+b*L\n",
    "    p2=a+b*(-L)\n",
    "    #print(p1)\n",
    "    #print(p2)\n",
    "    points=[p1.tolist(),p2.tolist()]\n",
    "    #points=list(np.vectorize(lambda x:list(x),otypes=[object],signature=\"(j)->()\")(pp))\n",
    "    #print(points)\n",
    "    line=[[0,1]]\n",
    "    colors = [[1, 0, 0] for i in range(len(line))]\n",
    "    line_set = o3d.geometry.LineSet()\n",
    "    line_set.points = o3d.utility.Vector3dVector(points)\n",
    "    line_set.lines = o3d.utility.Vector2iVector(line)\n",
    "    line_set.colors = o3d.utility.Vector3dVector(colors)\n",
    "    #o3d.visualization.draw_geometries([line_set])\n",
    "    return line_set"
   ]
  },
  {
   "cell_type": "code",
   "execution_count": 28,
   "metadata": {},
   "outputs": [],
   "source": [
    "pcds=os.listdir(data_base_path)\n",
    "pcd=o3d.io.read_point_cloud(data_base_path+\"\\\\\"+pcds[10])\n",
    "\n",
    "#NT = len(pcd.points)\n",
    "\n",
    "#if NT >= 4096:\n",
    "    #pcd = pcd.uniform_down_sample(int(NT/4096))\n",
    "    \n",
    "    \n",
    "pcd.translate(-pcd.get_center())\n",
    "\n",
    "#o3d.visualization.draw_geometries([pcd])\n",
    "Z,XY=slices_(pcd, N = 5)\n",
    "\n",
    "i=3\n",
    "slice_points=np.hstack((np.array(XY[0]+XY[1]+XY[2]+XY[3]+XY[4]),\n",
    "                        np.zeros((np.array(XY[0]+XY[1]+XY[2]+XY[3]+XY[4]).shape[0],1))))\n",
    "slice_pcd=o3d.geometry.PointCloud()\n",
    "slice_pcd.points=o3d.utility.Vector3dVector(slice_points)\n",
    "o3d.visualization.draw_geometries([slice_pcd])"
   ]
  },
  {
   "cell_type": "code",
   "execution_count": 29,
   "metadata": {},
   "outputs": [],
   "source": [
    "#line=draw_line(a,b,L=100)\n",
    "o3d.visualization.draw_geometries([slice_pcd])\n",
    "o3d.visualization.draw_geometries([pcd])"
   ]
  },
  {
   "cell_type": "code",
   "execution_count": 30,
   "metadata": {},
   "outputs": [],
   "source": [
    "slice_pcd\n",
    "fltd_slice_pcd, ind = slice_pcd.remove_statistical_outlier(nb_neighbors=40,\n",
    "                                                    std_ratio=0.1)\n",
    "o3d.visualization.draw_geometries([fltd_slice_pcd])"
   ]
  },
  {
   "cell_type": "code",
   "execution_count": 38,
   "metadata": {},
   "outputs": [],
   "source": [
    "NT = len(pcd.points)\n",
    "if NT >= 4096/16:\n",
    "    fltd_slice_pcd = fltd_slice_pcd.uniform_down_sample(int(NT/(4096/16)))\n",
    "o3d.visualization.draw_geometries([fltd_slice_pcd])"
   ]
  },
  {
   "cell_type": "code",
   "execution_count": 34,
   "metadata": {},
   "outputs": [
    {
     "name": "stdout",
     "output_type": "stream",
     "text": [
      "opt_dx\n",
      "2.141983471464733\n",
      "[]\n",
      "[]\n",
      "[1436 1691 1946 2201 2710 2965 3220 3475]\n",
      "[36 36 36 36 36 36 36 36]\n",
      "[37 37 37 37 37 37 37 37]\n",
      "found 8 directions\n",
      "[ 0.89442719 -0.4472136   0.        ]\n",
      "[array([0.31022273, 0.22416852, 0.        ])]\n",
      "[array([ 0.81800718, -0.57520801,  0.        ])]\n",
      "[1402 1929 2982 3509]\n",
      "[34 34 34 34]\n",
      "[34 34 34 34]\n",
      "found 4 directions\n",
      "[ 0.83205029 -0.5547002   0.        ]\n",
      "[array([0.31022273, 0.22416852, 0.        ]), array([ 1.28931052, -2.15224037,  0.        ])]\n",
      "[array([ 0.81800718, -0.57520801,  0.        ]), array([ 0.84015338, -0.54234886,  0.        ])]\n",
      "[1402 1929 2982 3509]\n",
      "[34 34 34 34]\n",
      "[34 34 34 34]\n",
      "found 4 directions\n",
      "[ 0.83205029 -0.5547002   0.        ]\n",
      "[array([0.31022273, 0.22416852, 0.        ]), array([ 1.28931052, -2.15224037,  0.        ]), array([-10.89469106,   4.57201255,   0.        ])]\n",
      "[array([ 0.81800718, -0.57520801,  0.        ]), array([ 0.84015338, -0.54234886,  0.        ]), array([ 0.8328365 , -0.55351907,  0.        ])]\n",
      "[1402 1929 2982 3509]\n",
      "[34 34 34 34]\n",
      "[33 33 33 33]\n",
      "found 4 directions\n",
      "[ 0.83205029 -0.5547002   0.        ]\n"
     ]
    }
   ],
   "source": [
    "#A,B,n=hough3D_pcl(slice_pcd,opt_nlines=4,granularity=1/8)\n",
    "A,B,n,vs=hough3D_pcl(slice_pcd,opt_nlines=4,granularity=1/8)"
   ]
  },
  {
   "cell_type": "code",
   "execution_count": 35,
   "metadata": {},
   "outputs": [
    {
     "name": "stdout",
     "output_type": "stream",
     "text": [
      "4\n",
      "[array([0.31022273, 0.22416852, 0.        ]), array([ 1.28931052, -2.15224037,  0.        ]), array([-10.89469106,   4.57201255,   0.        ]), array([ 2.1112016 , -4.97577339,  0.        ])]\n",
      "4\n",
      "[array([ 0.81800718, -0.57520801,  0.        ]), array([ 0.84015338, -0.54234886,  0.        ]), array([ 0.8328365 , -0.55351907,  0.        ]), array([ 0.83294889, -0.55334994,  0.        ])]\n"
     ]
    }
   ],
   "source": [
    "print(len(A))\n",
    "print(A)\n",
    "print(len(B))\n",
    "print(B)\n",
    "Ar=np.array(A)\n",
    "Br=np.array(B)"
   ]
  },
  {
   "cell_type": "code",
   "execution_count": 36,
   "metadata": {},
   "outputs": [],
   "source": [
    "Ar=np.array(A)\n",
    "Br=np.array(B)\n",
    "Lines_arr=np.vectorize(draw_line,otypes=[object],signature=\"(j),(j),()->()\")(Ar,Br,300)"
   ]
  },
  {
   "cell_type": "code",
   "execution_count": 37,
   "metadata": {},
   "outputs": [],
   "source": [
    "o3d.visualization.draw_geometries(Lines_arr.tolist()+[slice_pcd])"
   ]
  },
  {
   "cell_type": "code",
   "execution_count": 5,
   "metadata": {},
   "outputs": [
    {
     "data": {
      "text/plain": [
       "(4912, 268, 268)"
      ]
     },
     "execution_count": 5,
     "metadata": {},
     "output_type": "execute_result"
    }
   ],
   "source": [
    "vs.shape"
   ]
  },
  {
   "cell_type": "code",
   "execution_count": 35,
   "metadata": {},
   "outputs": [
    {
     "ename": "RuntimeError",
     "evalue": "",
     "output_type": "error",
     "traceback": [
      "\u001b[1;31m---------------------------------------------------------------------------\u001b[0m",
      "\u001b[1;31mRuntimeError\u001b[0m                              Traceback (most recent call last)",
      "\u001b[1;32m<ipython-input-35-2bd57ca1ca44>\u001b[0m in \u001b[0;36m<module>\u001b[1;34m\u001b[0m\n\u001b[0;32m     17\u001b[0m \u001b[0mcolors\u001b[0m\u001b[1;33m[\u001b[0m\u001b[1;33m:\u001b[0m\u001b[1;33m,\u001b[0m\u001b[1;36m0\u001b[0m\u001b[1;33m]\u001b[0m\u001b[1;33m=\u001b[0m\u001b[0mn_vs\u001b[0m\u001b[1;33m[\u001b[0m\u001b[0mp\u001b[0m\u001b[1;33m[\u001b[0m\u001b[1;33m:\u001b[0m\u001b[1;33m,\u001b[0m\u001b[1;36m0\u001b[0m\u001b[1;33m]\u001b[0m\u001b[1;33m,\u001b[0m\u001b[0mp\u001b[0m\u001b[1;33m[\u001b[0m\u001b[1;33m:\u001b[0m\u001b[1;33m,\u001b[0m\u001b[1;36m1\u001b[0m\u001b[1;33m]\u001b[0m\u001b[1;33m,\u001b[0m\u001b[0mp\u001b[0m\u001b[1;33m[\u001b[0m\u001b[1;33m:\u001b[0m\u001b[1;33m,\u001b[0m\u001b[1;36m2\u001b[0m\u001b[1;33m]\u001b[0m\u001b[1;33m]\u001b[0m\u001b[1;33m\u001b[0m\u001b[1;33m\u001b[0m\u001b[0m\n\u001b[0;32m     18\u001b[0m \u001b[0mcolors\u001b[0m\u001b[1;33m[\u001b[0m\u001b[1;33m:\u001b[0m\u001b[1;33m,\u001b[0m\u001b[1;36m1\u001b[0m\u001b[1;33m]\u001b[0m\u001b[1;33m=\u001b[0m\u001b[0mn_vs\u001b[0m\u001b[1;33m[\u001b[0m\u001b[0mp\u001b[0m\u001b[1;33m[\u001b[0m\u001b[1;33m:\u001b[0m\u001b[1;33m,\u001b[0m\u001b[1;36m0\u001b[0m\u001b[1;33m]\u001b[0m\u001b[1;33m,\u001b[0m\u001b[0mp\u001b[0m\u001b[1;33m[\u001b[0m\u001b[1;33m:\u001b[0m\u001b[1;33m,\u001b[0m\u001b[1;36m1\u001b[0m\u001b[1;33m]\u001b[0m\u001b[1;33m,\u001b[0m\u001b[0mp\u001b[0m\u001b[1;33m[\u001b[0m\u001b[1;33m:\u001b[0m\u001b[1;33m,\u001b[0m\u001b[1;36m2\u001b[0m\u001b[1;33m]\u001b[0m\u001b[1;33m]\u001b[0m\u001b[1;33m\u001b[0m\u001b[1;33m\u001b[0m\u001b[0m\n\u001b[1;32m---> 19\u001b[1;33m \u001b[0mvs_pcd\u001b[0m\u001b[1;33m.\u001b[0m\u001b[0mcolors\u001b[0m\u001b[1;33m=\u001b[0m\u001b[0mo3d\u001b[0m\u001b[1;33m.\u001b[0m\u001b[0mutility\u001b[0m\u001b[1;33m.\u001b[0m\u001b[0mVector3dVector\u001b[0m\u001b[1;33m(\u001b[0m\u001b[0mcolors\u001b[0m\u001b[1;33m)\u001b[0m\u001b[1;33m\u001b[0m\u001b[1;33m\u001b[0m\u001b[0m\n\u001b[0m\u001b[0;32m     20\u001b[0m \u001b[1;33m\u001b[0m\u001b[0m\n\u001b[0;32m     21\u001b[0m \u001b[1;32mdel\u001b[0m \u001b[0mx\u001b[0m\u001b[1;33m,\u001b[0m\u001b[0my\u001b[0m\u001b[1;33m,\u001b[0m\u001b[0mz\u001b[0m\u001b[1;33m\u001b[0m\u001b[1;33m\u001b[0m\u001b[0m\n",
      "\u001b[1;31mRuntimeError\u001b[0m: "
     ]
    }
   ],
   "source": [
    "#Visualize VotingSpace\n",
    "vs_pcd=o3d.geometry.PointCloud()\n",
    "dx=np.arange(0,vs.shape[0])\n",
    "dy=np.arange(0,vs.shape[1])\n",
    "dz=np.arange(0,vs.shape[2])\n",
    "n_vs=(vs+1)/np.max(vs+1)\n",
    "#n_vs=n_vs[n_vs>0.5]\n",
    "\n",
    "x,y,z=np.meshgrid(np.arange(0,n_vs.shape[0]),\n",
    "                  np.arange(0,n_vs.shape[1]),\n",
    "                  np.arange(0,n_vs.shape[2]))\n",
    "p=np.hstack((x.reshape(-1,1),y.reshape(-1,1),z.reshape(-1,1)))\n",
    "\n",
    "vs_pcd.points=o3d.utility.Vector3dVector(p*100)\n",
    "\n",
    "colors=np.ones((p.shape[0],p.shape[1]+1))\n",
    "colors[:,0]=n_vs[p[:,0],p[:,1],p[:,2]]\n",
    "colors[:,1]=n_vs[p[:,0],p[:,1],p[:,2]]\n",
    "vs_pcd.colors=o3d.utility.Vector3dVector(colors)\n",
    "\n",
    "del x,y,z\n",
    "\n",
    "o3d.visualization.draw_geometries([vs_pcd])"
   ]
  },
  {
   "cell_type": "code",
   "execution_count": 13,
   "metadata": {},
   "outputs": [],
   "source": [
    "colors=np.zeros(p.shape)\n",
    "colors[:,0]=n_vs[p[:,0],p[:,1],p[:,2]]\n",
    "slice_pcd.colors=o3d.utility.Vector3dVector(colors)"
   ]
  },
  {
   "cell_type": "code",
   "execution_count": 27,
   "metadata": {},
   "outputs": [
    {
     "name": "stdout",
     "output_type": "stream",
     "text": [
      "[[25 24 21]\n",
      " [ 5 17 11]\n",
      " [13 16 16]\n",
      " [ 7 16  3]]\n"
     ]
    }
   ],
   "source": [
    "vs=np.random.randint(0,30,(4,3))\n",
    "x,y=np.meshgrid(np.arange(0,vs.shape[0]),\n",
    "                  np.arange(0,vs.shape[1]))#,\n",
    "                  #np.arange(0,vs.shape[2]))\n",
    "p=np.hstack((x.reshape(-1,1),y.reshape(-1,1)))#,z.reshape(-1,1)))\n",
    "vs[p[:,0],p[:,1],p[:,2]]\n",
    "print(vs)"
   ]
  },
  {
   "cell_type": "code",
   "execution_count": 33,
   "metadata": {},
   "outputs": [
    {
     "name": "stdout",
     "output_type": "stream",
     "text": [
      "(12,)\n",
      "[25  5 13  7 24 17 16 16 21 11 16  3]\n"
     ]
    },
    {
     "data": {
      "text/plain": [
       "25"
      ]
     },
     "execution_count": 33,
     "metadata": {},
     "output_type": "execute_result"
    }
   ],
   "source": [
    "print(vs[p[:,0],p[:,1]].shape)\n",
    "print(vs[p[:,0],p[:,1],p[:,2]])\n",
    "vs[p[0,0],p[0,1]]"
   ]
  },
  {
   "cell_type": "code",
   "execution_count": 33,
   "metadata": {},
   "outputs": [
    {
     "data": {
      "text/plain": [
       "(22049968, 3)"
      ]
     },
     "execution_count": 33,
     "metadata": {},
     "output_type": "execute_result"
    }
   ],
   "source": [
    "p.shape"
   ]
  }
 ],
 "metadata": {
  "kernelspec": {
   "display_name": "Python 3",
   "language": "python",
   "name": "python3"
  },
  "language_info": {
   "codemirror_mode": {
    "name": "ipython",
    "version": 3
   },
   "file_extension": ".py",
   "mimetype": "text/x-python",
   "name": "python",
   "nbconvert_exporter": "python",
   "pygments_lexer": "ipython3",
   "version": "3.9.0"
  }
 },
 "nbformat": 4,
 "nbformat_minor": 4
}
