{
 "cells": [
  {
   "cell_type": "code",
   "execution_count": 1,
   "metadata": {},
   "outputs": [],
   "source": [
    "import sys\n",
    "import os\n",
    "import pathlib\n",
    "#sys.path.append('D:\\\\Documentos\\\\INNOVATE\\lib\\\\FreeCAD\\\\bin')\n",
    "pth=str(pathlib.Path().absolute())\n",
    "general_repo=\"\\\\\".join(pth.split('\\\\')[:5])\n",
    "simetries_path=general_repo+\"\\\\Simetrias\\\\Utils\"\n",
    "\n",
    "sys.path.append(simetries_path)\n",
    "\n",
    "data_base_path=\"\\\\\".join(pth.split('\\\\')[:3])+\"\\\\Base_de_datos\\\\BEAMS\\\\Aceptado\"\n",
    "\n",
    "Hough_path=general_repo+\"\\\\PCLHough\"\n",
    "\n",
    "sys.path.append(Hough_path)\n",
    "\n",
    "import open3d as o3d\n",
    "from Utilities import *\n",
    "from MF import *\n",
    "from hough3dlines import *"
   ]
  },
  {
   "cell_type": "code",
   "execution_count": null,
   "metadata": {},
   "outputs": [],
   "source": []
  },
  {
   "cell_type": "code",
   "execution_count": 17,
   "metadata": {},
   "outputs": [
    {
     "data": {
      "text/plain": [
       "[[-3.0, 8.0, -6.0],\n",
       " [-0.7548294124240689, 0.6469966392206304, -0.10783277320343841]]"
      ]
     },
     "execution_count": 17,
     "metadata": {},
     "output_type": "execute_result"
    }
   ],
   "source": [
    "a=np.random.randint(-10,10,(1,3))\n",
    "b=np.random.randint(-10,10,(1,3))\n",
    "b=b/np.linalg.norm(b)\n",
    "pp=np.vstack((a,b))\n",
    "pp\n",
    "list(np.vectorize(lambda x:list(x),otypes=[object],signature=\"(j)->()\")(pp))"
   ]
  },
  {
   "cell_type": "code",
   "execution_count": 24,
   "metadata": {},
   "outputs": [],
   "source": [
    "def draw_line(a,b,L=100):\n",
    "    p1=a+b*L\n",
    "    p2=a+b*(-L)\n",
    "    #print(p1)\n",
    "    #print(p2)\n",
    "    points=[p1.tolist(),p2.tolist()]\n",
    "    #points=list(np.vectorize(lambda x:list(x),otypes=[object],signature=\"(j)->()\")(pp))\n",
    "    #print(points)\n",
    "    line=[[0,1]]\n",
    "    colors = [[1, 0, 0] for i in range(len(line))]\n",
    "    line_set = o3d.geometry.LineSet()\n",
    "    line_set.points = o3d.utility.Vector3dVector(points)\n",
    "    line_set.lines = o3d.utility.Vector2iVector(line)\n",
    "    line_set.colors = o3d.utility.Vector3dVector(colors)\n",
    "    #o3d.visualization.draw_geometries([line_set])\n",
    "    return line_set"
   ]
  },
  {
   "cell_type": "code",
   "execution_count": 2,
   "metadata": {},
   "outputs": [],
   "source": [
    "pcds=os.listdir(data_base_path)\n",
    "pcd=o3d.io.read_point_cloud(data_base_path+\"\\\\\"+pcds[50])\n",
    "\n",
    "NT = len(pcd.points)\n",
    "\n",
    "if NT >= 4096:\n",
    "    pcd = pcd.uniform_down_sample(int(NT/4096))\n",
    "    \n",
    "    \n",
    "pcd.translate(-pcd.get_center())\n",
    "\n",
    "#o3d.visualization.draw_geometries([pcd])\n",
    "Z,XY=slices_(pcd, N = 5)\n",
    "\n",
    "i=3\n",
    "slice_points=np.hstack((np.array(XY[0]+XY[1]+XY[2]+XY[3]+XY[4]),\n",
    "                        np.zeros((np.array(XY[0]+XY[1]+XY[2]+XY[3]+XY[4]).shape[0],1))))\n",
    "slice_pcd=o3d.geometry.PointCloud()\n",
    "slice_pcd.points=o3d.utility.Vector3dVector(slice_points)\n",
    "o3d.visualization.draw_geometries([slice_pcd])"
   ]
  },
  {
   "cell_type": "code",
   "execution_count": 3,
   "metadata": {},
   "outputs": [
    {
     "ename": "NameError",
     "evalue": "name 'a' is not defined",
     "output_type": "error",
     "traceback": [
      "\u001b[1;31m---------------------------------------------------------------------------\u001b[0m",
      "\u001b[1;31mNameError\u001b[0m                                 Traceback (most recent call last)",
      "\u001b[1;32m<ipython-input-3-a996d3bdeb5f>\u001b[0m in \u001b[0;36m<module>\u001b[1;34m\u001b[0m\n\u001b[1;32m----> 1\u001b[1;33m \u001b[0mline\u001b[0m\u001b[1;33m=\u001b[0m\u001b[0mdraw_line\u001b[0m\u001b[1;33m(\u001b[0m\u001b[0ma\u001b[0m\u001b[1;33m,\u001b[0m\u001b[0mb\u001b[0m\u001b[1;33m,\u001b[0m\u001b[0mL\u001b[0m\u001b[1;33m=\u001b[0m\u001b[1;36m100\u001b[0m\u001b[1;33m)\u001b[0m\u001b[1;33m\u001b[0m\u001b[1;33m\u001b[0m\u001b[0m\n\u001b[0m\u001b[0;32m      2\u001b[0m \u001b[1;31m#print(slice_pcd.get_max_bound())\u001b[0m\u001b[1;33m\u001b[0m\u001b[1;33m\u001b[0m\u001b[1;33m\u001b[0m\u001b[0m\n\u001b[0;32m      3\u001b[0m \u001b[1;31m#print(slice_pcd.get_min_bound())\u001b[0m\u001b[1;33m\u001b[0m\u001b[1;33m\u001b[0m\u001b[1;33m\u001b[0m\u001b[0m\n",
      "\u001b[1;31mNameError\u001b[0m: name 'a' is not defined"
     ]
    }
   ],
   "source": [
    "line=draw_line(a,b,L=100)\n",
    "#print(slice_pcd.get_max_bound())\n",
    "#print(slice_pcd.get_min_bound())"
   ]
  },
  {
   "cell_type": "code",
   "execution_count": 21,
   "metadata": {},
   "outputs": [
    {
     "data": {
      "text/plain": [
       "array([[-3,  8, -6]])"
      ]
     },
     "execution_count": 21,
     "metadata": {},
     "output_type": "execute_result"
    }
   ],
   "source": [
    "a"
   ]
  },
  {
   "cell_type": "code",
   "execution_count": 33,
   "metadata": {},
   "outputs": [],
   "source": [
    "o3d.visualization.draw_geometries([slice_pcd,line])"
   ]
  },
  {
   "cell_type": "code",
   "execution_count": 3,
   "metadata": {},
   "outputs": [
    {
     "name": "stdout",
     "output_type": "stream",
     "text": [
      "opt_dx\n",
      "2.9135242890677473\n",
      "[]\n",
      "[]\n",
      "[   8  314  365  620  926 1232 1538 1844 2150 2761 3067 3373 3679 3985\n",
      " 4291 4546 4597 4903]\n",
      "[37 37 38 37 37 37 37 37 37 37 37 37 37 37 37 38 37 37]\n",
      "[30 30 31 30 30 30 30 30 30 30 30 30 30 30 30 31 30 30]\n",
      "found 18 directions\n",
      "[-0.70710678 -0.70710678  0.        ]\n",
      "[array([-0.76935966, -0.07827943,  0.        ])]\n",
      "[array([0.95795898, 0.28690521, 0.        ])]\n",
      "[1759 2065 2846 3152]\n",
      "[34 34 34 34]\n",
      "[33 33 33 33]\n",
      "found 4 directions\n",
      "[-0.96152395 -0.27472113  0.        ]\n",
      "[array([-0.76935966, -0.07827943,  0.        ]), array([-5.7557121 , -1.10559354,  0.        ])]\n",
      "[array([0.95795898, 0.28690521, 0.        ]), array([0.97607287, 0.21744366, 0.        ])]\n",
      "[1776 2082 2116 2795 2829 3135]\n",
      "[34 34 34 34 34 34]\n",
      "[32 33 32 32 33 32]\n",
      "found 6 directions\n",
      "[-0.9486833  -0.31622777  0.        ]\n",
      "[array([-0.76935966, -0.07827943,  0.        ]), array([-5.7557121 , -1.10559354,  0.        ]), array([ 2.80624893, -1.16185554,  0.        ])]\n",
      "[array([0.95795898, 0.28690521, 0.        ]), array([0.97607287, 0.21744366, 0.        ]), array([0.96232542, 0.27190031, 0.        ])]\n",
      "[1776 2116 2795 3135]\n",
      "[34 34 34 34]\n",
      "[32 32 32 32]\n",
      "found 4 directions\n",
      "[-0.9486833  -0.31622777  0.        ]\n"
     ]
    },
    {
     "name": "stderr",
     "output_type": "stream",
     "text": [
      "C:\\Users\\grmc1\\Anaconda3\\envs\\INNOVATE\\lib\\site-packages\\numpy\\core\\fromnumeric.py:3419: RuntimeWarning: Mean of empty slice.\n",
      "  return _methods._mean(a, axis=axis, dtype=dtype,\n",
      "C:\\Users\\grmc1\\Anaconda3\\envs\\INNOVATE\\lib\\site-packages\\numpy\\core\\_methods.py:180: RuntimeWarning: invalid value encountered in true_divide\n",
      "  ret = um.true_divide(\n"
     ]
    }
   ],
   "source": [
    "#A,B,n=hough3D_pcl(slice_pcd,opt_nlines=4,granularity=1/8)\n",
    "A,B,n,vs=hough3D_pcl(slice_pcd,opt_nlines=4,granularity=1/8)"
   ]
  },
  {
   "cell_type": "code",
   "execution_count": 4,
   "metadata": {},
   "outputs": [
    {
     "name": "stdout",
     "output_type": "stream",
     "text": [
      "3\n",
      "[array([-0.76935966, -0.07827943,  0.        ]), array([-5.7557121 , -1.10559354,  0.        ]), array([ 2.80624893, -1.16185554,  0.        ])]\n",
      "3\n",
      "[array([0.95795898, 0.28690521, 0.        ]), array([0.97607287, 0.21744366, 0.        ]), array([0.96232542, 0.27190031, 0.        ])]\n"
     ]
    }
   ],
   "source": [
    "print(len(A))\n",
    "print(A)\n",
    "print(len(B))\n",
    "print(B)\n",
    "Ar=np.array(A)\n",
    "Br=np.array(B)"
   ]
  },
  {
   "cell_type": "code",
   "execution_count": 5,
   "metadata": {},
   "outputs": [],
   "source": [
    "Ar=np.array(A)\n",
    "Br=np.array(B)\n",
    "Lines_arr=np.vectorize(draw_line,otypes=[object],signature=\"(j),(j),()->()\")(Ar,Br,300)"
   ]
  },
  {
   "cell_type": "code",
   "execution_count": 6,
   "metadata": {},
   "outputs": [],
   "source": [
    "o3d.visualization.draw_geometries(Lines_arr.tolist()+[slice_pcd])"
   ]
  },
  {
   "cell_type": "code",
   "execution_count": 5,
   "metadata": {},
   "outputs": [
    {
     "data": {
      "text/plain": [
       "(4912, 268, 268)"
      ]
     },
     "execution_count": 5,
     "metadata": {},
     "output_type": "execute_result"
    }
   ],
   "source": [
    "vs.shape"
   ]
  },
  {
   "cell_type": "code",
   "execution_count": 16,
   "metadata": {},
   "outputs": [],
   "source": [
    "#Visualize VotingSpace\n",
    "vs_pcd=o3d.geometry.PointCloud()\n",
    "dx=np.arange(0,vs.shape[0])\n",
    "dy=np.arange(0,vs.shape[1])\n",
    "dz=np.arange(0,vs.shape[2])\n",
    "n_vs=vs/np.max(vs)\n",
    "\n",
    "x,y,z=np.meshgrid(np.arange(0,vs.shape[0]),\n",
    "                  np.arange(0,vs.shape[1]),\n",
    "                  np.arange(0,vs.shape[2]))\n",
    "p=np.hstack((x.reshape(-1,1),y.reshape(-1,1),z.reshape(-1,1)))\n",
    "\n",
    "vs_pcd.points=o3d.utility.Vector3dVector(p*100)\n",
    "\n",
    "colors=np.ones(p.shape)*0.5\n",
    "colors[:,0]=n_vs[p[:,0],p[:,1],p[:,2]]\n",
    "vs_pcd.colors=o3d.utility.Vector3dVector(colors)\n",
    "\n",
    "del x,y,z\n",
    "\n",
    "o3d.visualization.draw_geometries([vs_pcd])"
   ]
  },
  {
   "cell_type": "code",
   "execution_count": 18,
   "metadata": {},
   "outputs": [
    {
     "data": {
      "text/plain": [
       "array([-0.05555556,  0.        ,  0.05555556,  0.11111111,  0.16666667,\n",
       "        0.22222222,  0.27777778,  0.33333333,  0.38888889,  0.44444444,\n",
       "        0.5       ,  0.55555556,  0.61111111,  0.66666667,  0.72222222,\n",
       "        0.77777778,  0.83333333,  1.        ])"
      ]
     },
     "execution_count": 18,
     "metadata": {},
     "output_type": "execute_result"
    }
   ],
   "source": [
    "#n_vs[p[:,0],p[:,1],p[:,2]]\n",
    "np.unique(n_vs[p[:,0],p[:,1],p[:,2]])\n"
   ]
  },
  {
   "cell_type": "code",
   "execution_count": 13,
   "metadata": {},
   "outputs": [],
   "source": [
    "colors=np.zeros(p.shape)\n",
    "colors[:,0]=n_vs[p[:,0],p[:,1],p[:,2]]\n",
    "slice_pcd.colors=o3d.utility.Vector3dVector(colors)"
   ]
  },
  {
   "cell_type": "code",
   "execution_count": 27,
   "metadata": {},
   "outputs": [
    {
     "name": "stdout",
     "output_type": "stream",
     "text": [
      "[[25 24 21]\n",
      " [ 5 17 11]\n",
      " [13 16 16]\n",
      " [ 7 16  3]]\n"
     ]
    }
   ],
   "source": [
    "vs=np.random.randint(0,30,(4,3))\n",
    "x,y=np.meshgrid(np.arange(0,vs.shape[0]),\n",
    "                  np.arange(0,vs.shape[1]))#,\n",
    "                  #np.arange(0,vs.shape[2]))\n",
    "p=np.hstack((x.reshape(-1,1),y.reshape(-1,1)))#,z.reshape(-1,1)))\n",
    "vs[p[:,0],p[:,1],p[:,2]]\n",
    "print(vs)"
   ]
  },
  {
   "cell_type": "code",
   "execution_count": 33,
   "metadata": {},
   "outputs": [
    {
     "name": "stdout",
     "output_type": "stream",
     "text": [
      "(12,)\n",
      "[25  5 13  7 24 17 16 16 21 11 16  3]\n"
     ]
    },
    {
     "data": {
      "text/plain": [
       "25"
      ]
     },
     "execution_count": 33,
     "metadata": {},
     "output_type": "execute_result"
    }
   ],
   "source": [
    "print(vs[p[:,0],p[:,1]].shape)\n",
    "print(vs[p[:,0],p[:,1],p[:,2]])\n",
    "vs[p[0,0],p[0,1]]"
   ]
  },
  {
   "cell_type": "code",
   "execution_count": 34,
   "metadata": {},
   "outputs": [
    {
     "data": {
      "text/plain": [
       "array([[0, 0],\n",
       "       [1, 0],\n",
       "       [2, 0],\n",
       "       [3, 0],\n",
       "       [0, 1],\n",
       "       [1, 1],\n",
       "       [2, 1],\n",
       "       [3, 1],\n",
       "       [0, 2],\n",
       "       [1, 2],\n",
       "       [2, 2],\n",
       "       [3, 2]])"
      ]
     },
     "execution_count": 34,
     "metadata": {},
     "output_type": "execute_result"
    }
   ],
   "source": [
    "p"
   ]
  }
 ],
 "metadata": {
  "kernelspec": {
   "display_name": "Python 3",
   "language": "python",
   "name": "python3"
  },
  "language_info": {
   "codemirror_mode": {
    "name": "ipython",
    "version": 3
   },
   "file_extension": ".py",
   "mimetype": "text/x-python",
   "name": "python",
   "nbconvert_exporter": "python",
   "pygments_lexer": "ipython3",
   "version": "3.9.0"
  }
 },
 "nbformat": 4,
 "nbformat_minor": 4
}
